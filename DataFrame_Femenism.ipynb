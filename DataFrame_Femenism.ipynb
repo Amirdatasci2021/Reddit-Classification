{
 "cells": [
  {
   "cell_type": "markdown",
   "metadata": {},
   "source": [
    "# Feminism Prep: EDA, Lexicon Analysis, Sentiment Analysis and Export for modeling"
   ]
  },
  {
   "cell_type": "code",
   "execution_count": 1,
   "metadata": {},
   "outputs": [
    {
     "name": "stdout",
     "output_type": "stream",
     "text": [
      "These are the files in mensrights:\n",
      "['use1.csv', 'use10.csv', 'use2.csv', 'use3.csv', 'use4.5.csv', 'use4.csv', 'use6.csv', 'use7.csv', 'use9.csv']\n",
      "\n",
      "\n",
      "These are the files in Femenism:\n",
      "['test.csv', 'test11.csv', 'test12.csv', 'test13.csv', 'test2.csv', 'test3.csv', 'test4.csv', 'test5.csv', 'test6.csv', 'test7.csv', 'test8.csv', 'test9.csv']\n"
     ]
    }
   ],
   "source": [
    "from os import listdir\n",
    "from os.path import isfile, join\n",
    "import pandas as pd\n",
    "pd.options.display.max_colwidth = 1000\n",
    "import numpy as np\n",
    "\n",
    "import matplotlib.pyplot as plt\n",
    "import seaborn as sns\n",
    "sns.set()\n",
    "\n",
    "\n",
    "mypath='./data/mensrights/'\n",
    "onlyfiles = [f for f in listdir(mypath) if isfile(join(mypath, f))]\n",
    "\n",
    "myotherpath='./data/women/'\n",
    "onlyfiles1 = [f for f in listdir(myotherpath) if isfile(join(myotherpath, f))]\n",
    "\n",
    "print(f\"These are the files in mensrights:\\n{onlyfiles}\\\n",
    "\\n\\n\\nThese are the files in Femenism:\\n{onlyfiles1}\")"
   ]
  },
  {
   "cell_type": "code",
   "execution_count": 2,
   "metadata": {},
   "outputs": [
    {
     "data": {
      "text/plain": [
       "(2000, 3)"
      ]
     },
     "execution_count": 2,
     "metadata": {},
     "output_type": "execute_result"
    }
   ],
   "source": [
    "first='test.csv'\n",
    "one=pd.read_csv('./data/women/'+first)\n",
    "one.rename(columns={'body': 'text'},inplace=True)\n",
    "one.shape"
   ]
  },
  {
   "cell_type": "code",
   "execution_count": 3,
   "metadata": {},
   "outputs": [
    {
     "data": {
      "text/plain": [
       "(2000, 3)"
      ]
     },
     "execution_count": 3,
     "metadata": {},
     "output_type": "execute_result"
    }
   ],
   "source": [
    "second='test2.csv'\n",
    "two =pd.read_csv('./data/women/'+second)\n",
    "two.rename(columns={'body': 'text'},inplace=True)\n",
    "two.shape"
   ]
  },
  {
   "cell_type": "code",
   "execution_count": 4,
   "metadata": {},
   "outputs": [
    {
     "data": {
      "text/plain": [
       "(2000, 3)"
      ]
     },
     "execution_count": 4,
     "metadata": {},
     "output_type": "execute_result"
    }
   ],
   "source": [
    "third='test3.csv'\n",
    "three=pd.read_csv('./data/women/'+third)\n",
    "three.rename(columns={'body': 'text'},inplace=True)\n",
    "three.shape"
   ]
  },
  {
   "cell_type": "code",
   "execution_count": 5,
   "metadata": {},
   "outputs": [
    {
     "data": {
      "text/plain": [
       "(2000, 3)"
      ]
     },
     "execution_count": 5,
     "metadata": {},
     "output_type": "execute_result"
    }
   ],
   "source": [
    "third='test4.csv'\n",
    "three=pd.read_csv('./data/women/'+third)\n",
    "three.rename(columns={'body': 'text'},inplace=True)\n",
    "three.shape"
   ]
  },
  {
   "cell_type": "code",
   "execution_count": 6,
   "metadata": {},
   "outputs": [
    {
     "data": {
      "text/plain": [
       "(2000, 3)"
      ]
     },
     "execution_count": 6,
     "metadata": {},
     "output_type": "execute_result"
    }
   ],
   "source": [
    "fourth='test5.csv'\n",
    "four=pd.read_csv('./data/women/'+fourth)\n",
    "four.rename(columns={'body': 'text'},inplace=True)\n",
    "four.shape"
   ]
  },
  {
   "cell_type": "code",
   "execution_count": 7,
   "metadata": {},
   "outputs": [
    {
     "data": {
      "text/plain": [
       "(2000, 3)"
      ]
     },
     "execution_count": 7,
     "metadata": {},
     "output_type": "execute_result"
    }
   ],
   "source": [
    "fifth='test6.csv'\n",
    "five =pd.read_csv('./data/women/'+fifth)\n",
    "five.rename(columns={'body': 'text'},inplace=True)\n",
    "five.shape"
   ]
  },
  {
   "cell_type": "code",
   "execution_count": 8,
   "metadata": {},
   "outputs": [
    {
     "data": {
      "text/plain": [
       "(2000, 3)"
      ]
     },
     "execution_count": 8,
     "metadata": {},
     "output_type": "execute_result"
    }
   ],
   "source": [
    "sixth='test7.csv'\n",
    "six =pd.read_csv('./data/women/'+sixth)\n",
    "six.rename(columns={'body': 'text'},inplace=True)\n",
    "six.shape"
   ]
  },
  {
   "cell_type": "code",
   "execution_count": 9,
   "metadata": {},
   "outputs": [
    {
     "data": {
      "text/plain": [
       "(2000, 3)"
      ]
     },
     "execution_count": 9,
     "metadata": {},
     "output_type": "execute_result"
    }
   ],
   "source": [
    "seventh='test8.csv'\n",
    "seven =pd.read_csv('./data/women/'+seventh)\n",
    "seven.rename(columns={'selftext': 'text'},inplace=True)\n",
    "seven.shape"
   ]
  },
  {
   "cell_type": "code",
   "execution_count": 10,
   "metadata": {},
   "outputs": [
    {
     "data": {
      "text/plain": [
       "(2000, 3)"
      ]
     },
     "execution_count": 10,
     "metadata": {},
     "output_type": "execute_result"
    }
   ],
   "source": [
    "eighth='test9.csv'\n",
    "eight =pd.read_csv('./data/women/'+eighth)\n",
    "eight.rename(columns={'selftext': 'text'},inplace=True)\n",
    "eight.shape"
   ]
  },
  {
   "cell_type": "code",
   "execution_count": 11,
   "metadata": {},
   "outputs": [
    {
     "data": {
      "text/plain": [
       "(2000, 3)"
      ]
     },
     "execution_count": 11,
     "metadata": {},
     "output_type": "execute_result"
    }
   ],
   "source": [
    "ninth='test11.csv'\n",
    "nine =pd.read_csv('./data/women/'+ninth)\n",
    "nine.rename(columns={'body': 'text'},inplace=True)\n",
    "nine['subreddit']=nine.subreddit.str.replace(r'AskFeminists','Feminism',regex=True)\n",
    "nine.shape"
   ]
  },
  {
   "cell_type": "code",
   "execution_count": 12,
   "metadata": {},
   "outputs": [
    {
     "data": {
      "text/plain": [
       "(2000, 3)"
      ]
     },
     "execution_count": 12,
     "metadata": {},
     "output_type": "execute_result"
    }
   ],
   "source": [
    "tenth='test12.csv'\n",
    "ten =pd.read_csv('./data/women/'+tenth)\n",
    "ten.rename(columns={'body': 'text'},inplace=True)\n",
    "ten['subreddit']=ten.subreddit.str.replace(r'AskFeminists','Feminism',regex=True)\n",
    "ten.shape"
   ]
  },
  {
   "cell_type": "code",
   "execution_count": 13,
   "metadata": {},
   "outputs": [
    {
     "data": {
      "text/plain": [
       "(2000, 3)"
      ]
     },
     "execution_count": 13,
     "metadata": {},
     "output_type": "execute_result"
    }
   ],
   "source": [
    "eleventh='test13.csv'\n",
    "eleven =pd.read_csv('./data/women/'+eleventh)\n",
    "eleven.rename(columns={'body': 'text'},inplace=True)\n",
    "eleven['subreddit']=eleven.subreddit.str.replace(r'AskFeminists','Feminism',regex=True)\n",
    "eleven.shape"
   ]
  },
  {
   "cell_type": "code",
   "execution_count": 14,
   "metadata": {},
   "outputs": [],
   "source": [
    "comb=pd.concat([one, two, three,four,five,six,seven,eight,nine,ten,eleven])"
   ]
  },
  {
   "cell_type": "markdown",
   "metadata": {},
   "source": [
    "# Data Prep and EDA"
   ]
  },
  {
   "cell_type": "code",
   "execution_count": 15,
   "metadata": {},
   "outputs": [],
   "source": [
    "comb.dropna(inplace=True)"
   ]
  },
  {
   "cell_type": "code",
   "execution_count": 16,
   "metadata": {},
   "outputs": [
    {
     "data": {
      "text/plain": [
       "(19891, 3)"
      ]
     },
     "execution_count": 16,
     "metadata": {},
     "output_type": "execute_result"
    }
   ],
   "source": [
    "comb.shape"
   ]
  },
  {
   "cell_type": "code",
   "execution_count": 17,
   "metadata": {},
   "outputs": [],
   "source": [
    "comb.replace('/(\\r\\n)+|\\r+|\\n+|\\t+/', ' ', regex=True, inplace=True)\n",
    "#kill the line brreaks and tabs\n",
    "comb.replace('http[s]?://(?:[a-zA-Z]|[0-9]|[$-_@.&+]|[!*\\(\\),]|(?:%[0-9a-fA-F][0-9a-fA-F]))+', ' ', regex=True, inplace=True)\n",
    "#The structure of the links is not like html href it looks more like markdown\n",
    "comb['text'] = comb.text.str.replace(r'[^a-zA-Z ]\\s?','&',regex=True)\n",
    "#Since we are looking to tokenize words we will remove all special charecters and digits\n",
    "#Removes the protocol for links and also some of the ending\n",
    "comb['text'] = comb.text.str.replace(r'&',' ',regex=True)\n",
    "#Removes the space holder to a white space\n",
    "comb['text'].replace(' ', np.nan, inplace=True)\n",
    "#Turns anything that is just white space to a numpy NAN "
   ]
  },
  {
   "cell_type": "code",
   "execution_count": 18,
   "metadata": {},
   "outputs": [],
   "source": [
    "comb['text'] = comb.text.str.replace(r' removed','&',regex=True)\n",
    "comb['text'] = comb.text.str.replace(r' deleted','&',regex=True)\n",
    "#The posts removed and deleted much like the URLs are pesky and require extra attention\n",
    "comb['text'] = comb.text.str.replace(r'&','',regex=True)\n",
    "comb['text'].replace(' ', np.nan, inplace=True)\n",
    "#Turn them to NANs so we can drop them quickly\n",
    "comb['text'].replace('amp','', inplace=True)\n",
    "#kills the amps"
   ]
  },
  {
   "cell_type": "code",
   "execution_count": 19,
   "metadata": {},
   "outputs": [
    {
     "data": {
      "text/plain": [
       "(10316, 3)"
      ]
     },
     "execution_count": 19,
     "metadata": {},
     "output_type": "execute_result"
    }
   ],
   "source": [
    "comb.dropna(inplace=True)\n",
    "#will get rid of the rest\n",
    "comb.shape"
   ]
  },
  {
   "cell_type": "code",
   "execution_count": 20,
   "metadata": {},
   "outputs": [],
   "source": [
    "from sklearn.feature_extraction import text\n",
    "#bring it in set up a list and union it with the library defaults\n",
    "extra_stop_words=['just','like','don','people','think','know','want','gt','say','make','really','good','right','said','ve','time','need','way','doesn','did','post','life','rights','point','things','view','actually','yes','poll','didn','ll','feel','day','mean']\n",
    "stop_words = text.ENGLISH_STOP_WORDS.union(extra_stop_words)"
   ]
  },
  {
   "cell_type": "code",
   "execution_count": 21,
   "metadata": {},
   "outputs": [
    {
     "data": {
      "text/html": [
       "<div>\n",
       "<style scoped>\n",
       "    .dataframe tbody tr th:only-of-type {\n",
       "        vertical-align: middle;\n",
       "    }\n",
       "\n",
       "    .dataframe tbody tr th {\n",
       "        vertical-align: top;\n",
       "    }\n",
       "\n",
       "    .dataframe thead th {\n",
       "        text-align: right;\n",
       "    }\n",
       "</style>\n",
       "<table border=\"1\" class=\"dataframe\">\n",
       "  <thead>\n",
       "    <tr style=\"text-align: right;\">\n",
       "      <th></th>\n",
       "      <th>aacknowledged</th>\n",
       "      <th>abandon</th>\n",
       "      <th>abandoned</th>\n",
       "      <th>abandoning</th>\n",
       "      <th>abby</th>\n",
       "      <th>abhorrent</th>\n",
       "      <th>abide</th>\n",
       "      <th>abilities</th>\n",
       "      <th>ability</th>\n",
       "      <th>able</th>\n",
       "      <th>...</th>\n",
       "      <th>zero</th>\n",
       "      <th>zimbalist</th>\n",
       "      <th>zines</th>\n",
       "      <th>zombies</th>\n",
       "      <th>zone</th>\n",
       "      <th>zoned</th>\n",
       "      <th>zones</th>\n",
       "      <th>zoo</th>\n",
       "      <th>zoologist</th>\n",
       "      <th>zora</th>\n",
       "    </tr>\n",
       "  </thead>\n",
       "  <tbody>\n",
       "    <tr>\n",
       "      <th>0</th>\n",
       "      <td>0</td>\n",
       "      <td>0</td>\n",
       "      <td>0</td>\n",
       "      <td>0</td>\n",
       "      <td>0</td>\n",
       "      <td>0</td>\n",
       "      <td>0</td>\n",
       "      <td>0</td>\n",
       "      <td>0</td>\n",
       "      <td>0</td>\n",
       "      <td>...</td>\n",
       "      <td>0</td>\n",
       "      <td>0</td>\n",
       "      <td>0</td>\n",
       "      <td>0</td>\n",
       "      <td>0</td>\n",
       "      <td>0</td>\n",
       "      <td>0</td>\n",
       "      <td>0</td>\n",
       "      <td>0</td>\n",
       "      <td>0</td>\n",
       "    </tr>\n",
       "    <tr>\n",
       "      <th>1</th>\n",
       "      <td>0</td>\n",
       "      <td>0</td>\n",
       "      <td>0</td>\n",
       "      <td>0</td>\n",
       "      <td>0</td>\n",
       "      <td>0</td>\n",
       "      <td>0</td>\n",
       "      <td>0</td>\n",
       "      <td>0</td>\n",
       "      <td>0</td>\n",
       "      <td>...</td>\n",
       "      <td>0</td>\n",
       "      <td>0</td>\n",
       "      <td>0</td>\n",
       "      <td>0</td>\n",
       "      <td>0</td>\n",
       "      <td>0</td>\n",
       "      <td>0</td>\n",
       "      <td>0</td>\n",
       "      <td>0</td>\n",
       "      <td>0</td>\n",
       "    </tr>\n",
       "    <tr>\n",
       "      <th>2</th>\n",
       "      <td>0</td>\n",
       "      <td>0</td>\n",
       "      <td>0</td>\n",
       "      <td>0</td>\n",
       "      <td>0</td>\n",
       "      <td>0</td>\n",
       "      <td>0</td>\n",
       "      <td>0</td>\n",
       "      <td>0</td>\n",
       "      <td>0</td>\n",
       "      <td>...</td>\n",
       "      <td>0</td>\n",
       "      <td>0</td>\n",
       "      <td>0</td>\n",
       "      <td>0</td>\n",
       "      <td>0</td>\n",
       "      <td>0</td>\n",
       "      <td>0</td>\n",
       "      <td>0</td>\n",
       "      <td>0</td>\n",
       "      <td>0</td>\n",
       "    </tr>\n",
       "    <tr>\n",
       "      <th>3</th>\n",
       "      <td>0</td>\n",
       "      <td>0</td>\n",
       "      <td>0</td>\n",
       "      <td>0</td>\n",
       "      <td>0</td>\n",
       "      <td>0</td>\n",
       "      <td>0</td>\n",
       "      <td>0</td>\n",
       "      <td>0</td>\n",
       "      <td>0</td>\n",
       "      <td>...</td>\n",
       "      <td>0</td>\n",
       "      <td>0</td>\n",
       "      <td>0</td>\n",
       "      <td>0</td>\n",
       "      <td>0</td>\n",
       "      <td>0</td>\n",
       "      <td>0</td>\n",
       "      <td>0</td>\n",
       "      <td>0</td>\n",
       "      <td>0</td>\n",
       "    </tr>\n",
       "    <tr>\n",
       "      <th>4</th>\n",
       "      <td>0</td>\n",
       "      <td>0</td>\n",
       "      <td>0</td>\n",
       "      <td>0</td>\n",
       "      <td>0</td>\n",
       "      <td>0</td>\n",
       "      <td>0</td>\n",
       "      <td>0</td>\n",
       "      <td>0</td>\n",
       "      <td>0</td>\n",
       "      <td>...</td>\n",
       "      <td>0</td>\n",
       "      <td>0</td>\n",
       "      <td>0</td>\n",
       "      <td>0</td>\n",
       "      <td>0</td>\n",
       "      <td>0</td>\n",
       "      <td>0</td>\n",
       "      <td>0</td>\n",
       "      <td>0</td>\n",
       "      <td>0</td>\n",
       "    </tr>\n",
       "    <tr>\n",
       "      <th>...</th>\n",
       "      <td>...</td>\n",
       "      <td>...</td>\n",
       "      <td>...</td>\n",
       "      <td>...</td>\n",
       "      <td>...</td>\n",
       "      <td>...</td>\n",
       "      <td>...</td>\n",
       "      <td>...</td>\n",
       "      <td>...</td>\n",
       "      <td>...</td>\n",
       "      <td>...</td>\n",
       "      <td>...</td>\n",
       "      <td>...</td>\n",
       "      <td>...</td>\n",
       "      <td>...</td>\n",
       "      <td>...</td>\n",
       "      <td>...</td>\n",
       "      <td>...</td>\n",
       "      <td>...</td>\n",
       "      <td>...</td>\n",
       "      <td>...</td>\n",
       "    </tr>\n",
       "    <tr>\n",
       "      <th>10311</th>\n",
       "      <td>0</td>\n",
       "      <td>0</td>\n",
       "      <td>0</td>\n",
       "      <td>0</td>\n",
       "      <td>0</td>\n",
       "      <td>0</td>\n",
       "      <td>0</td>\n",
       "      <td>0</td>\n",
       "      <td>0</td>\n",
       "      <td>0</td>\n",
       "      <td>...</td>\n",
       "      <td>0</td>\n",
       "      <td>0</td>\n",
       "      <td>0</td>\n",
       "      <td>0</td>\n",
       "      <td>0</td>\n",
       "      <td>0</td>\n",
       "      <td>0</td>\n",
       "      <td>0</td>\n",
       "      <td>0</td>\n",
       "      <td>0</td>\n",
       "    </tr>\n",
       "    <tr>\n",
       "      <th>10312</th>\n",
       "      <td>0</td>\n",
       "      <td>0</td>\n",
       "      <td>0</td>\n",
       "      <td>0</td>\n",
       "      <td>0</td>\n",
       "      <td>0</td>\n",
       "      <td>0</td>\n",
       "      <td>0</td>\n",
       "      <td>0</td>\n",
       "      <td>0</td>\n",
       "      <td>...</td>\n",
       "      <td>0</td>\n",
       "      <td>0</td>\n",
       "      <td>0</td>\n",
       "      <td>0</td>\n",
       "      <td>0</td>\n",
       "      <td>0</td>\n",
       "      <td>0</td>\n",
       "      <td>0</td>\n",
       "      <td>0</td>\n",
       "      <td>0</td>\n",
       "    </tr>\n",
       "    <tr>\n",
       "      <th>10313</th>\n",
       "      <td>0</td>\n",
       "      <td>0</td>\n",
       "      <td>0</td>\n",
       "      <td>0</td>\n",
       "      <td>0</td>\n",
       "      <td>0</td>\n",
       "      <td>0</td>\n",
       "      <td>0</td>\n",
       "      <td>0</td>\n",
       "      <td>0</td>\n",
       "      <td>...</td>\n",
       "      <td>0</td>\n",
       "      <td>0</td>\n",
       "      <td>0</td>\n",
       "      <td>0</td>\n",
       "      <td>0</td>\n",
       "      <td>0</td>\n",
       "      <td>0</td>\n",
       "      <td>0</td>\n",
       "      <td>0</td>\n",
       "      <td>0</td>\n",
       "    </tr>\n",
       "    <tr>\n",
       "      <th>10314</th>\n",
       "      <td>0</td>\n",
       "      <td>0</td>\n",
       "      <td>0</td>\n",
       "      <td>0</td>\n",
       "      <td>0</td>\n",
       "      <td>0</td>\n",
       "      <td>0</td>\n",
       "      <td>0</td>\n",
       "      <td>0</td>\n",
       "      <td>0</td>\n",
       "      <td>...</td>\n",
       "      <td>0</td>\n",
       "      <td>0</td>\n",
       "      <td>0</td>\n",
       "      <td>0</td>\n",
       "      <td>0</td>\n",
       "      <td>0</td>\n",
       "      <td>0</td>\n",
       "      <td>0</td>\n",
       "      <td>0</td>\n",
       "      <td>0</td>\n",
       "    </tr>\n",
       "    <tr>\n",
       "      <th>10315</th>\n",
       "      <td>0</td>\n",
       "      <td>0</td>\n",
       "      <td>0</td>\n",
       "      <td>0</td>\n",
       "      <td>0</td>\n",
       "      <td>0</td>\n",
       "      <td>0</td>\n",
       "      <td>0</td>\n",
       "      <td>0</td>\n",
       "      <td>0</td>\n",
       "      <td>...</td>\n",
       "      <td>0</td>\n",
       "      <td>0</td>\n",
       "      <td>0</td>\n",
       "      <td>0</td>\n",
       "      <td>0</td>\n",
       "      <td>0</td>\n",
       "      <td>0</td>\n",
       "      <td>0</td>\n",
       "      <td>0</td>\n",
       "      <td>0</td>\n",
       "    </tr>\n",
       "  </tbody>\n",
       "</table>\n",
       "<p>10316 rows × 11204 columns</p>\n",
       "</div>"
      ],
      "text/plain": [
       "       aacknowledged  abandon  abandoned  abandoning  abby  abhorrent  abide  \\\n",
       "0                  0        0          0           0     0          0      0   \n",
       "1                  0        0          0           0     0          0      0   \n",
       "2                  0        0          0           0     0          0      0   \n",
       "3                  0        0          0           0     0          0      0   \n",
       "4                  0        0          0           0     0          0      0   \n",
       "...              ...      ...        ...         ...   ...        ...    ...   \n",
       "10311              0        0          0           0     0          0      0   \n",
       "10312              0        0          0           0     0          0      0   \n",
       "10313              0        0          0           0     0          0      0   \n",
       "10314              0        0          0           0     0          0      0   \n",
       "10315              0        0          0           0     0          0      0   \n",
       "\n",
       "       abilities  ability  able  ...  zero  zimbalist  zines  zombies  zone  \\\n",
       "0              0        0     0  ...     0          0      0        0     0   \n",
       "1              0        0     0  ...     0          0      0        0     0   \n",
       "2              0        0     0  ...     0          0      0        0     0   \n",
       "3              0        0     0  ...     0          0      0        0     0   \n",
       "4              0        0     0  ...     0          0      0        0     0   \n",
       "...          ...      ...   ...  ...   ...        ...    ...      ...   ...   \n",
       "10311          0        0     0  ...     0          0      0        0     0   \n",
       "10312          0        0     0  ...     0          0      0        0     0   \n",
       "10313          0        0     0  ...     0          0      0        0     0   \n",
       "10314          0        0     0  ...     0          0      0        0     0   \n",
       "10315          0        0     0  ...     0          0      0        0     0   \n",
       "\n",
       "       zoned  zones  zoo  zoologist  zora  \n",
       "0          0      0    0          0     0  \n",
       "1          0      0    0          0     0  \n",
       "2          0      0    0          0     0  \n",
       "3          0      0    0          0     0  \n",
       "4          0      0    0          0     0  \n",
       "...      ...    ...  ...        ...   ...  \n",
       "10311      0      0    0          0     0  \n",
       "10312      0      0    0          0     0  \n",
       "10313      0      0    0          0     0  \n",
       "10314      0      0    0          0     0  \n",
       "10315      0      0    0          0     0  \n",
       "\n",
       "[10316 rows x 11204 columns]"
      ]
     },
     "execution_count": 21,
     "metadata": {},
     "output_type": "execute_result"
    }
   ],
   "source": [
    "from sklearn.feature_extraction.text import CountVectorizer, TfidfVectorizer\n",
    "cvec = CountVectorizer(stop_words=stop_words)#stop words included...This has to be reapplied to all models\n",
    "X = comb.text\n",
    "cvec.fit(X)\n",
    "text_cv = cvec.transform(comb.text)\n",
    "text_df = pd.DataFrame(text_cv.todense(), columns=cvec.get_feature_names())\n",
    "text_df#lets take a look at the df"
   ]
  },
  {
   "cell_type": "code",
   "execution_count": 22,
   "metadata": {},
   "outputs": [
    {
     "data": {
      "text/plain": [
       "women       5915\n",
       "men         5873\n",
       "amp         2231\n",
       "woman       1204\n",
       "feminism    1107\n",
       "dtype: int64"
      ]
     },
     "execution_count": 22,
     "metadata": {},
     "output_type": "execute_result"
    }
   ],
   "source": [
    "text_df.sum().sort_values(ascending = False).head(5)# provides the top results"
   ]
  },
  {
   "cell_type": "code",
   "execution_count": 23,
   "metadata": {},
   "outputs": [
    {
     "data": {
      "image/png": "[encoded data removed]",
      "text/plain": [
       "<Figure size 1080x504 with 1 Axes>"
      ]
     },
     "metadata": {},
     "output_type": "display_data"
    }
   ],
   "source": [
    "text_df.sum().sort_values(ascending = False).head(5).plot(kind='bar',figsize=(15,7));#visualizes it"
   ]
  },
  {
   "cell_type": "code",
   "execution_count": 24,
   "metadata": {},
   "outputs": [
    {
     "data": {
      "image/png": "[encoded data removed]",
      "text/plain": [
       "<Figure size 1080x504 with 1 Axes>"
      ]
     },
     "metadata": {},
     "output_type": "display_data"
    }
   ],
   "source": [
    "text_df.sum().sort_values(ascending = True).head(5).plot(kind='bar',figsize=(15,7));#now reverse it "
   ]
  },
  {
   "cell_type": "code",
   "execution_count": 25,
   "metadata": {},
   "outputs": [
    {
     "data": {
      "text/html": [
       "<div>\n",
       "<style scoped>\n",
       "    .dataframe tbody tr th:only-of-type {\n",
       "        vertical-align: middle;\n",
       "    }\n",
       "\n",
       "    .dataframe tbody tr th {\n",
       "        vertical-align: top;\n",
       "    }\n",
       "\n",
       "    .dataframe thead th {\n",
       "        text-align: right;\n",
       "    }\n",
       "</style>\n",
       "<table border=\"1\" class=\"dataframe\">\n",
       "  <thead>\n",
       "    <tr style=\"text-align: right;\">\n",
       "      <th></th>\n",
       "      <th>aacknowledged</th>\n",
       "      <th>abandon</th>\n",
       "      <th>abandoned</th>\n",
       "      <th>abandoning</th>\n",
       "      <th>abby</th>\n",
       "      <th>abhorrent</th>\n",
       "      <th>abide</th>\n",
       "      <th>abilities</th>\n",
       "      <th>ability</th>\n",
       "      <th>able</th>\n",
       "      <th>...</th>\n",
       "      <th>zero</th>\n",
       "      <th>zimbalist</th>\n",
       "      <th>zines</th>\n",
       "      <th>zombies</th>\n",
       "      <th>zone</th>\n",
       "      <th>zoned</th>\n",
       "      <th>zones</th>\n",
       "      <th>zoo</th>\n",
       "      <th>zoologist</th>\n",
       "      <th>zora</th>\n",
       "    </tr>\n",
       "  </thead>\n",
       "  <tbody>\n",
       "    <tr>\n",
       "      <th>0</th>\n",
       "      <td>0.0</td>\n",
       "      <td>0.0</td>\n",
       "      <td>0.0</td>\n",
       "      <td>0.0</td>\n",
       "      <td>0.0</td>\n",
       "      <td>0.0</td>\n",
       "      <td>0.0</td>\n",
       "      <td>0.0</td>\n",
       "      <td>0.0</td>\n",
       "      <td>0.0</td>\n",
       "      <td>...</td>\n",
       "      <td>0.0</td>\n",
       "      <td>0.0</td>\n",
       "      <td>0.0</td>\n",
       "      <td>0.0</td>\n",
       "      <td>0.0</td>\n",
       "      <td>0.0</td>\n",
       "      <td>0.0</td>\n",
       "      <td>0.0</td>\n",
       "      <td>0.0</td>\n",
       "      <td>0.0</td>\n",
       "    </tr>\n",
       "    <tr>\n",
       "      <th>1</th>\n",
       "      <td>0.0</td>\n",
       "      <td>0.0</td>\n",
       "      <td>0.0</td>\n",
       "      <td>0.0</td>\n",
       "      <td>0.0</td>\n",
       "      <td>0.0</td>\n",
       "      <td>0.0</td>\n",
       "      <td>0.0</td>\n",
       "      <td>0.0</td>\n",
       "      <td>0.0</td>\n",
       "      <td>...</td>\n",
       "      <td>0.0</td>\n",
       "      <td>0.0</td>\n",
       "      <td>0.0</td>\n",
       "      <td>0.0</td>\n",
       "      <td>0.0</td>\n",
       "      <td>0.0</td>\n",
       "      <td>0.0</td>\n",
       "      <td>0.0</td>\n",
       "      <td>0.0</td>\n",
       "      <td>0.0</td>\n",
       "    </tr>\n",
       "    <tr>\n",
       "      <th>2</th>\n",
       "      <td>0.0</td>\n",
       "      <td>0.0</td>\n",
       "      <td>0.0</td>\n",
       "      <td>0.0</td>\n",
       "      <td>0.0</td>\n",
       "      <td>0.0</td>\n",
       "      <td>0.0</td>\n",
       "      <td>0.0</td>\n",
       "      <td>0.0</td>\n",
       "      <td>0.0</td>\n",
       "      <td>...</td>\n",
       "      <td>0.0</td>\n",
       "      <td>0.0</td>\n",
       "      <td>0.0</td>\n",
       "      <td>0.0</td>\n",
       "      <td>0.0</td>\n",
       "      <td>0.0</td>\n",
       "      <td>0.0</td>\n",
       "      <td>0.0</td>\n",
       "      <td>0.0</td>\n",
       "      <td>0.0</td>\n",
       "    </tr>\n",
       "    <tr>\n",
       "      <th>3</th>\n",
       "      <td>0.0</td>\n",
       "      <td>0.0</td>\n",
       "      <td>0.0</td>\n",
       "      <td>0.0</td>\n",
       "      <td>0.0</td>\n",
       "      <td>0.0</td>\n",
       "      <td>0.0</td>\n",
       "      <td>0.0</td>\n",
       "      <td>0.0</td>\n",
       "      <td>0.0</td>\n",
       "      <td>...</td>\n",
       "      <td>0.0</td>\n",
       "      <td>0.0</td>\n",
       "      <td>0.0</td>\n",
       "      <td>0.0</td>\n",
       "      <td>0.0</td>\n",
       "      <td>0.0</td>\n",
       "      <td>0.0</td>\n",
       "      <td>0.0</td>\n",
       "      <td>0.0</td>\n",
       "      <td>0.0</td>\n",
       "    </tr>\n",
       "    <tr>\n",
       "      <th>4</th>\n",
       "      <td>0.0</td>\n",
       "      <td>0.0</td>\n",
       "      <td>0.0</td>\n",
       "      <td>0.0</td>\n",
       "      <td>0.0</td>\n",
       "      <td>0.0</td>\n",
       "      <td>0.0</td>\n",
       "      <td>0.0</td>\n",
       "      <td>0.0</td>\n",
       "      <td>0.0</td>\n",
       "      <td>...</td>\n",
       "      <td>0.0</td>\n",
       "      <td>0.0</td>\n",
       "      <td>0.0</td>\n",
       "      <td>0.0</td>\n",
       "      <td>0.0</td>\n",
       "      <td>0.0</td>\n",
       "      <td>0.0</td>\n",
       "      <td>0.0</td>\n",
       "      <td>0.0</td>\n",
       "      <td>0.0</td>\n",
       "    </tr>\n",
       "    <tr>\n",
       "      <th>...</th>\n",
       "      <td>...</td>\n",
       "      <td>...</td>\n",
       "      <td>...</td>\n",
       "      <td>...</td>\n",
       "      <td>...</td>\n",
       "      <td>...</td>\n",
       "      <td>...</td>\n",
       "      <td>...</td>\n",
       "      <td>...</td>\n",
       "      <td>...</td>\n",
       "      <td>...</td>\n",
       "      <td>...</td>\n",
       "      <td>...</td>\n",
       "      <td>...</td>\n",
       "      <td>...</td>\n",
       "      <td>...</td>\n",
       "      <td>...</td>\n",
       "      <td>...</td>\n",
       "      <td>...</td>\n",
       "      <td>...</td>\n",
       "      <td>...</td>\n",
       "    </tr>\n",
       "    <tr>\n",
       "      <th>10311</th>\n",
       "      <td>0.0</td>\n",
       "      <td>0.0</td>\n",
       "      <td>0.0</td>\n",
       "      <td>0.0</td>\n",
       "      <td>0.0</td>\n",
       "      <td>0.0</td>\n",
       "      <td>0.0</td>\n",
       "      <td>0.0</td>\n",
       "      <td>0.0</td>\n",
       "      <td>0.0</td>\n",
       "      <td>...</td>\n",
       "      <td>0.0</td>\n",
       "      <td>0.0</td>\n",
       "      <td>0.0</td>\n",
       "      <td>0.0</td>\n",
       "      <td>0.0</td>\n",
       "      <td>0.0</td>\n",
       "      <td>0.0</td>\n",
       "      <td>0.0</td>\n",
       "      <td>0.0</td>\n",
       "      <td>0.0</td>\n",
       "    </tr>\n",
       "    <tr>\n",
       "      <th>10312</th>\n",
       "      <td>0.0</td>\n",
       "      <td>0.0</td>\n",
       "      <td>0.0</td>\n",
       "      <td>0.0</td>\n",
       "      <td>0.0</td>\n",
       "      <td>0.0</td>\n",
       "      <td>0.0</td>\n",
       "      <td>0.0</td>\n",
       "      <td>0.0</td>\n",
       "      <td>0.0</td>\n",
       "      <td>...</td>\n",
       "      <td>0.0</td>\n",
       "      <td>0.0</td>\n",
       "      <td>0.0</td>\n",
       "      <td>0.0</td>\n",
       "      <td>0.0</td>\n",
       "      <td>0.0</td>\n",
       "      <td>0.0</td>\n",
       "      <td>0.0</td>\n",
       "      <td>0.0</td>\n",
       "      <td>0.0</td>\n",
       "    </tr>\n",
       "    <tr>\n",
       "      <th>10313</th>\n",
       "      <td>0.0</td>\n",
       "      <td>0.0</td>\n",
       "      <td>0.0</td>\n",
       "      <td>0.0</td>\n",
       "      <td>0.0</td>\n",
       "      <td>0.0</td>\n",
       "      <td>0.0</td>\n",
       "      <td>0.0</td>\n",
       "      <td>0.0</td>\n",
       "      <td>0.0</td>\n",
       "      <td>...</td>\n",
       "      <td>0.0</td>\n",
       "      <td>0.0</td>\n",
       "      <td>0.0</td>\n",
       "      <td>0.0</td>\n",
       "      <td>0.0</td>\n",
       "      <td>0.0</td>\n",
       "      <td>0.0</td>\n",
       "      <td>0.0</td>\n",
       "      <td>0.0</td>\n",
       "      <td>0.0</td>\n",
       "    </tr>\n",
       "    <tr>\n",
       "      <th>10314</th>\n",
       "      <td>0.0</td>\n",
       "      <td>0.0</td>\n",
       "      <td>0.0</td>\n",
       "      <td>0.0</td>\n",
       "      <td>0.0</td>\n",
       "      <td>0.0</td>\n",
       "      <td>0.0</td>\n",
       "      <td>0.0</td>\n",
       "      <td>0.0</td>\n",
       "      <td>0.0</td>\n",
       "      <td>...</td>\n",
       "      <td>0.0</td>\n",
       "      <td>0.0</td>\n",
       "      <td>0.0</td>\n",
       "      <td>0.0</td>\n",
       "      <td>0.0</td>\n",
       "      <td>0.0</td>\n",
       "      <td>0.0</td>\n",
       "      <td>0.0</td>\n",
       "      <td>0.0</td>\n",
       "      <td>0.0</td>\n",
       "    </tr>\n",
       "    <tr>\n",
       "      <th>10315</th>\n",
       "      <td>0.0</td>\n",
       "      <td>0.0</td>\n",
       "      <td>0.0</td>\n",
       "      <td>0.0</td>\n",
       "      <td>0.0</td>\n",
       "      <td>0.0</td>\n",
       "      <td>0.0</td>\n",
       "      <td>0.0</td>\n",
       "      <td>0.0</td>\n",
       "      <td>0.0</td>\n",
       "      <td>...</td>\n",
       "      <td>0.0</td>\n",
       "      <td>0.0</td>\n",
       "      <td>0.0</td>\n",
       "      <td>0.0</td>\n",
       "      <td>0.0</td>\n",
       "      <td>0.0</td>\n",
       "      <td>0.0</td>\n",
       "      <td>0.0</td>\n",
       "      <td>0.0</td>\n",
       "      <td>0.0</td>\n",
       "    </tr>\n",
       "  </tbody>\n",
       "</table>\n",
       "<p>10316 rows × 11204 columns</p>\n",
       "</div>"
      ],
      "text/plain": [
       "       aacknowledged  abandon  abandoned  abandoning  abby  abhorrent  abide  \\\n",
       "0                0.0      0.0        0.0         0.0   0.0        0.0    0.0   \n",
       "1                0.0      0.0        0.0         0.0   0.0        0.0    0.0   \n",
       "2                0.0      0.0        0.0         0.0   0.0        0.0    0.0   \n",
       "3                0.0      0.0        0.0         0.0   0.0        0.0    0.0   \n",
       "4                0.0      0.0        0.0         0.0   0.0        0.0    0.0   \n",
       "...              ...      ...        ...         ...   ...        ...    ...   \n",
       "10311            0.0      0.0        0.0         0.0   0.0        0.0    0.0   \n",
       "10312            0.0      0.0        0.0         0.0   0.0        0.0    0.0   \n",
       "10313            0.0      0.0        0.0         0.0   0.0        0.0    0.0   \n",
       "10314            0.0      0.0        0.0         0.0   0.0        0.0    0.0   \n",
       "10315            0.0      0.0        0.0         0.0   0.0        0.0    0.0   \n",
       "\n",
       "       abilities  ability  able  ...  zero  zimbalist  zines  zombies  zone  \\\n",
       "0            0.0      0.0   0.0  ...   0.0        0.0    0.0      0.0   0.0   \n",
       "1            0.0      0.0   0.0  ...   0.0        0.0    0.0      0.0   0.0   \n",
       "2            0.0      0.0   0.0  ...   0.0        0.0    0.0      0.0   0.0   \n",
       "3            0.0      0.0   0.0  ...   0.0        0.0    0.0      0.0   0.0   \n",
       "4            0.0      0.0   0.0  ...   0.0        0.0    0.0      0.0   0.0   \n",
       "...          ...      ...   ...  ...   ...        ...    ...      ...   ...   \n",
       "10311        0.0      0.0   0.0  ...   0.0        0.0    0.0      0.0   0.0   \n",
       "10312        0.0      0.0   0.0  ...   0.0        0.0    0.0      0.0   0.0   \n",
       "10313        0.0      0.0   0.0  ...   0.0        0.0    0.0      0.0   0.0   \n",
       "10314        0.0      0.0   0.0  ...   0.0        0.0    0.0      0.0   0.0   \n",
       "10315        0.0      0.0   0.0  ...   0.0        0.0    0.0      0.0   0.0   \n",
       "\n",
       "       zoned  zones  zoo  zoologist  zora  \n",
       "0        0.0    0.0  0.0        0.0   0.0  \n",
       "1        0.0    0.0  0.0        0.0   0.0  \n",
       "2        0.0    0.0  0.0        0.0   0.0  \n",
       "3        0.0    0.0  0.0        0.0   0.0  \n",
       "4        0.0    0.0  0.0        0.0   0.0  \n",
       "...      ...    ...  ...        ...   ...  \n",
       "10311    0.0    0.0  0.0        0.0   0.0  \n",
       "10312    0.0    0.0  0.0        0.0   0.0  \n",
       "10313    0.0    0.0  0.0        0.0   0.0  \n",
       "10314    0.0    0.0  0.0        0.0   0.0  \n",
       "10315    0.0    0.0  0.0        0.0   0.0  \n",
       "\n",
       "[10316 rows x 11204 columns]"
      ]
     },
     "execution_count": 25,
     "metadata": {},
     "output_type": "execute_result"
    }
   ],
   "source": [
    "#Try the alternative\n",
    "tfid = TfidfVectorizer(stop_words=stop_words)\n",
    "#Add the stop words so that we can get some actual idea of the most prevelent words\n",
    "X = comb.text\n",
    "tfid.fit(X)\n",
    "text_tfid = tfid.transform(comb.text)\n",
    "#Transform\n",
    "text_df2 = pd.DataFrame(text_tfid.todense(), columns=tfid.get_feature_names())\n",
    "text_df2#take a look"
   ]
  },
  {
   "cell_type": "code",
   "execution_count": 26,
   "metadata": {},
   "outputs": [
    {
     "data": {
      "image/png": "[encoded data removed]",
      "text/plain": [
       "<Figure size 1080x504 with 1 Axes>"
      ]
     },
     "metadata": {},
     "output_type": "display_data"
    }
   ],
   "source": [
    "text_df2.sum().sort_values(ascending = False).head(5).plot(kind='bar',figsize=(15,7));#top five terms"
   ]
  },
  {
   "cell_type": "code",
   "execution_count": 27,
   "metadata": {},
   "outputs": [
    {
     "data": {
      "image/png": "[encoded data removed]",
      "text/plain": [
       "<Figure size 1080x504 with 1 Axes>"
      ]
     },
     "metadata": {},
     "output_type": "display_data"
    }
   ],
   "source": [
    "text_df2.sum().sort_values(ascending = True).head(5).plot(kind='bar',figsize=(15,7));#the bottom 5 by frequency"
   ]
  },
  {
   "cell_type": "code",
   "execution_count": 28,
   "metadata": {},
   "outputs": [
    {
     "data": {
      "text/plain": [
       "coaster        1\n",
       "pillars        1\n",
       "biblical       1\n",
       "jewelry        1\n",
       "codified       1\n",
       "apologist      1\n",
       "jocks          1\n",
       "joey           1\n",
       "ship           1\n",
       "jogging        1\n",
       "perverted      1\n",
       "appealed       1\n",
       "judgy          1\n",
       "persona        1\n",
       "persevering    1\n",
       "dtype: int64"
      ]
     },
     "execution_count": 28,
     "metadata": {},
     "output_type": "execute_result"
    }
   ],
   "source": [
    "text_df.sum().sort_values(ascending = True).head(15)"
   ]
  },
  {
   "cell_type": "code",
   "execution_count": 29,
   "metadata": {},
   "outputs": [
    {
     "data": {
      "text/plain": [
       "(10316, 5)"
      ]
     },
     "execution_count": 29,
     "metadata": {},
     "output_type": "execute_result"
    }
   ],
   "source": [
    "#Create the length and word count columns\n",
    "comb['length']=comb['text'].str.len()\n",
    "comb['number_words'] = comb['text'].str.split().str.len()\n",
    "comb.shape"
   ]
  },
  {
   "cell_type": "code",
   "execution_count": 30,
   "metadata": {},
   "outputs": [
    {
     "data": {
      "text/plain": [
       "(8550, 5)"
      ]
     },
     "execution_count": 30,
     "metadata": {},
     "output_type": "execute_result"
    }
   ],
   "source": [
    "comb = comb[comb['number_words'] > 10]\n",
    "comb.shape # dump some of the lower count words kind of affraid to push on this any more"
   ]
  },
  {
   "cell_type": "code",
   "execution_count": 31,
   "metadata": {},
   "outputs": [],
   "source": [
    "comb[['subreddit','created_utc','text']].to_csv('./data/z_complete/fem.csv',index=False)\n",
    "# sends a basic file to a folder for the models"
   ]
  },
  {
   "cell_type": "code",
   "execution_count": 32,
   "metadata": {},
   "outputs": [
    {
     "data": {
      "image/png": "[encoded data removed]",
      "text/plain": [
       "<Figure size 720x720 with 4 Axes>"
      ]
     },
     "metadata": {},
     "output_type": "display_data"
    }
   ],
   "source": [
    "comb.hist(figsize=(10,10));# Seeking meaning where there does not seem to be any"
   ]
  },
  {
   "cell_type": "code",
   "execution_count": 33,
   "metadata": {},
   "outputs": [
    {
     "data": {
      "text/html": [
       "<div>\n",
       "<style scoped>\n",
       "    .dataframe tbody tr th:only-of-type {\n",
       "        vertical-align: middle;\n",
       "    }\n",
       "\n",
       "    .dataframe tbody tr th {\n",
       "        vertical-align: top;\n",
       "    }\n",
       "\n",
       "    .dataframe thead th {\n",
       "        text-align: right;\n",
       "    }\n",
       "</style>\n",
       "<table border=\"1\" class=\"dataframe\">\n",
       "  <thead>\n",
       "    <tr style=\"text-align: right;\">\n",
       "      <th></th>\n",
       "      <th>created_utc</th>\n",
       "      <th>length</th>\n",
       "      <th>number_words</th>\n",
       "    </tr>\n",
       "  </thead>\n",
       "  <tbody>\n",
       "    <tr>\n",
       "      <th>count</th>\n",
       "      <td>8.550000e+03</td>\n",
       "      <td>8550.000000</td>\n",
       "      <td>8550.000000</td>\n",
       "    </tr>\n",
       "    <tr>\n",
       "      <th>mean</th>\n",
       "      <td>1.615726e+09</td>\n",
       "      <td>412.991579</td>\n",
       "      <td>76.742222</td>\n",
       "    </tr>\n",
       "    <tr>\n",
       "      <th>std</th>\n",
       "      <td>5.049253e+05</td>\n",
       "      <td>539.517003</td>\n",
       "      <td>97.999179</td>\n",
       "    </tr>\n",
       "    <tr>\n",
       "      <th>min</th>\n",
       "      <td>1.611761e+09</td>\n",
       "      <td>41.000000</td>\n",
       "      <td>11.000000</td>\n",
       "    </tr>\n",
       "    <tr>\n",
       "      <th>25%</th>\n",
       "      <td>1.615559e+09</td>\n",
       "      <td>121.000000</td>\n",
       "      <td>22.000000</td>\n",
       "    </tr>\n",
       "    <tr>\n",
       "      <th>50%</th>\n",
       "      <td>1.615656e+09</td>\n",
       "      <td>225.000000</td>\n",
       "      <td>42.000000</td>\n",
       "    </tr>\n",
       "    <tr>\n",
       "      <th>75%</th>\n",
       "      <td>1.615781e+09</td>\n",
       "      <td>486.750000</td>\n",
       "      <td>91.000000</td>\n",
       "    </tr>\n",
       "    <tr>\n",
       "      <th>max</th>\n",
       "      <td>1.617165e+09</td>\n",
       "      <td>7119.000000</td>\n",
       "      <td>1151.000000</td>\n",
       "    </tr>\n",
       "  </tbody>\n",
       "</table>\n",
       "</div>"
      ],
      "text/plain": [
       "        created_utc       length  number_words\n",
       "count  8.550000e+03  8550.000000   8550.000000\n",
       "mean   1.615726e+09   412.991579     76.742222\n",
       "std    5.049253e+05   539.517003     97.999179\n",
       "min    1.611761e+09    41.000000     11.000000\n",
       "25%    1.615559e+09   121.000000     22.000000\n",
       "50%    1.615656e+09   225.000000     42.000000\n",
       "75%    1.615781e+09   486.750000     91.000000\n",
       "max    1.617165e+09  7119.000000   1151.000000"
      ]
     },
     "execution_count": 33,
     "metadata": {},
     "output_type": "execute_result"
    }
   ],
   "source": [
    "comb.describe()"
   ]
  },
  {
   "cell_type": "code",
   "execution_count": 34,
   "metadata": {},
   "outputs": [],
   "source": [
    "from textblob import TextBlob"
   ]
  },
  {
   "cell_type": "code",
   "execution_count": 35,
   "metadata": {},
   "outputs": [
    {
     "data": {
      "text/html": [
       "<div>\n",
       "<style scoped>\n",
       "    .dataframe tbody tr th:only-of-type {\n",
       "        vertical-align: middle;\n",
       "    }\n",
       "\n",
       "    .dataframe tbody tr th {\n",
       "        vertical-align: top;\n",
       "    }\n",
       "\n",
       "    .dataframe thead th {\n",
       "        text-align: right;\n",
       "    }\n",
       "</style>\n",
       "<table border=\"1\" class=\"dataframe\">\n",
       "  <thead>\n",
       "    <tr style=\"text-align: right;\">\n",
       "      <th></th>\n",
       "      <th>subreddit</th>\n",
       "      <th>text</th>\n",
       "      <th>created_utc</th>\n",
       "      <th>length</th>\n",
       "      <th>number_words</th>\n",
       "      <th>polarity</th>\n",
       "      <th>subjectivity</th>\n",
       "    </tr>\n",
       "  </thead>\n",
       "  <tbody>\n",
       "    <tr>\n",
       "      <th>1</th>\n",
       "      <td>Feminism</td>\n",
       "      <td>As a straight white male ally Atleast in the southern states I can say men do not hold men accountable That s personal experience but I stand by that statement</td>\n",
       "      <td>1615740158</td>\n",
       "      <td>160</td>\n",
       "      <td>30</td>\n",
       "      <td>0.04000</td>\n",
       "      <td>0.160000</td>\n",
       "    </tr>\n",
       "    <tr>\n",
       "      <th>2</th>\n",
       "      <td>Feminism</td>\n",
       "      <td>Calling out   blaming Yes all men should be called out to do better because we can and we should  If you re doing everything you can that s great   Keep it up  And make sure to hold those around you accountable as well If you re doing everything you can then you shouldn t feel personally attacked by this  It s literally as simple as that</td>\n",
       "      <td>1615739896</td>\n",
       "      <td>341</td>\n",
       "      <td>66</td>\n",
       "      <td>0.36000</td>\n",
       "      <td>0.559206</td>\n",
       "    </tr>\n",
       "    <tr>\n",
       "      <th>3</th>\n",
       "      <td>Feminism</td>\n",
       "      <td>Yes This tweet and many of the replies are broad brushing men</td>\n",
       "      <td>1615739759</td>\n",
       "      <td>62</td>\n",
       "      <td>12</td>\n",
       "      <td>0.28125</td>\n",
       "      <td>0.406250</td>\n",
       "    </tr>\n",
       "    <tr>\n",
       "      <th>8</th>\n",
       "      <td>Feminism</td>\n",
       "      <td>Yes Some of us do This tweet is using a broad brush and I don t think that is helpful to affecting change</td>\n",
       "      <td>1615739588</td>\n",
       "      <td>106</td>\n",
       "      <td>23</td>\n",
       "      <td>0.06250</td>\n",
       "      <td>0.312500</td>\n",
       "    </tr>\n",
       "    <tr>\n",
       "      <th>13</th>\n",
       "      <td>Feminism</td>\n",
       "      <td>Just listen When you do hear or notice something speak up And if you don t then just listen</td>\n",
       "      <td>1615737847</td>\n",
       "      <td>92</td>\n",
       "      <td>19</td>\n",
       "      <td>0.00000</td>\n",
       "      <td>0.000000</td>\n",
       "    </tr>\n",
       "  </tbody>\n",
       "</table>\n",
       "</div>"
      ],
      "text/plain": [
       "   subreddit  \\\n",
       "1   Feminism   \n",
       "2   Feminism   \n",
       "3   Feminism   \n",
       "8   Feminism   \n",
       "13  Feminism   \n",
       "\n",
       "                                                                                                                                                                                                                                                                                                                                                     text  \\\n",
       "1                                                                                                                                                                                        As a straight white male ally Atleast in the southern states I can say men do not hold men accountable That s personal experience but I stand by that statement    \n",
       "2    Calling out   blaming Yes all men should be called out to do better because we can and we should  If you re doing everything you can that s great   Keep it up  And make sure to hold those around you accountable as well If you re doing everything you can then you shouldn t feel personally attacked by this  It s literally as simple as that    \n",
       "3                                                                                                                                                                                                                                                                                          Yes This tweet and many of the replies are broad brushing men    \n",
       "8                                                                                                                                                                                                                                              Yes Some of us do This tweet is using a broad brush and I don t think that is helpful to affecting change    \n",
       "13                                                                                                                                                                                                                                                           Just listen When you do hear or notice something speak up And if you don t then just listen    \n",
       "\n",
       "    created_utc  length  number_words  polarity  subjectivity  \n",
       "1    1615740158     160            30   0.04000      0.160000  \n",
       "2    1615739896     341            66   0.36000      0.559206  \n",
       "3    1615739759      62            12   0.28125      0.406250  \n",
       "8    1615739588     106            23   0.06250      0.312500  \n",
       "13   1615737847      92            19   0.00000      0.000000  "
      ]
     },
     "execution_count": 35,
     "metadata": {},
     "output_type": "execute_result"
    }
   ],
   "source": [
    "def poles(text):\n",
    "    try:\n",
    "        return TextBlob(text).polarity\n",
    "    except:\n",
    "        return None\n",
    "def subj(text):\n",
    "    try:\n",
    "        return TextBlob(text).subjectivity\n",
    "    except:\n",
    "        return None\n",
    "#calls in each seperately for direct use alternatively you could get it in a tuple but getting both values in the column is going to be annoying. \n",
    "    \n",
    "    \n",
    "    \n",
    "comb['polarity'] = comb['text'].apply(poles)\n",
    "comb['subjectivity'] = comb['text'].apply(subj)\n",
    "#done Couldn't be any easier.\n",
    "comb.head()"
   ]
  },
  {
   "cell_type": "code",
   "execution_count": 36,
   "metadata": {},
   "outputs": [],
   "source": [
    "comb.drop(columns=['subreddit','created_utc','text'],inplace=True)\n",
    "# drop the others that we do not need any longer"
   ]
  },
  {
   "cell_type": "markdown",
   "metadata": {},
   "source": [
    "# Let us visualize"
   ]
  },
  {
   "cell_type": "markdown",
   "metadata": {},
   "source": [
    "I cant compare words one dataset just has double the samples in this one\n",
    "\n",
    "what it precieves as negative and positive is extremely questionable\n",
    "Mensrights: polarity:0.049682/ subjectivity:0.463823\n",
    "\n",
    "Also the surplus of data from one also may play into this\n",
    "\n",
    "\n"
   ]
  },
  {
   "cell_type": "code",
   "execution_count": 43,
   "metadata": {},
   "outputs": [
    {
     "data": {
      "text/html": [
       "<div>\n",
       "<style scoped>\n",
       "    .dataframe tbody tr th:only-of-type {\n",
       "        vertical-align: middle;\n",
       "    }\n",
       "\n",
       "    .dataframe tbody tr th {\n",
       "        vertical-align: top;\n",
       "    }\n",
       "\n",
       "    .dataframe thead th {\n",
       "        text-align: right;\n",
       "    }\n",
       "</style>\n",
       "<table border=\"1\" class=\"dataframe\">\n",
       "  <thead>\n",
       "    <tr style=\"text-align: right;\">\n",
       "      <th></th>\n",
       "      <th>length</th>\n",
       "      <th>number_words</th>\n",
       "      <th>polarity</th>\n",
       "      <th>subjectivity</th>\n",
       "    </tr>\n",
       "  </thead>\n",
       "  <tbody>\n",
       "    <tr>\n",
       "      <th>count</th>\n",
       "      <td>8550.000000</td>\n",
       "      <td>8550.000000</td>\n",
       "      <td>8550.000000</td>\n",
       "      <td>8550.000000</td>\n",
       "    </tr>\n",
       "    <tr>\n",
       "      <th>mean</th>\n",
       "      <td>412.991579</td>\n",
       "      <td>76.742222</td>\n",
       "      <td>0.073568</td>\n",
       "      <td>0.489847</td>\n",
       "    </tr>\n",
       "    <tr>\n",
       "      <th>std</th>\n",
       "      <td>539.517003</td>\n",
       "      <td>97.999179</td>\n",
       "      <td>0.209966</td>\n",
       "      <td>0.216168</td>\n",
       "    </tr>\n",
       "    <tr>\n",
       "      <th>min</th>\n",
       "      <td>41.000000</td>\n",
       "      <td>11.000000</td>\n",
       "      <td>-1.000000</td>\n",
       "      <td>0.000000</td>\n",
       "    </tr>\n",
       "    <tr>\n",
       "      <th>25%</th>\n",
       "      <td>121.000000</td>\n",
       "      <td>22.000000</td>\n",
       "      <td>-0.025000</td>\n",
       "      <td>0.385937</td>\n",
       "    </tr>\n",
       "    <tr>\n",
       "      <th>50%</th>\n",
       "      <td>225.000000</td>\n",
       "      <td>42.000000</td>\n",
       "      <td>0.066667</td>\n",
       "      <td>0.505046</td>\n",
       "    </tr>\n",
       "    <tr>\n",
       "      <th>75%</th>\n",
       "      <td>486.750000</td>\n",
       "      <td>91.000000</td>\n",
       "      <td>0.190476</td>\n",
       "      <td>0.621667</td>\n",
       "    </tr>\n",
       "    <tr>\n",
       "      <th>max</th>\n",
       "      <td>7119.000000</td>\n",
       "      <td>1151.000000</td>\n",
       "      <td>1.000000</td>\n",
       "      <td>1.000000</td>\n",
       "    </tr>\n",
       "  </tbody>\n",
       "</table>\n",
       "</div>"
      ],
      "text/plain": [
       "            length  number_words     polarity  subjectivity\n",
       "count  8550.000000   8550.000000  8550.000000   8550.000000\n",
       "mean    412.991579     76.742222     0.073568      0.489847\n",
       "std     539.517003     97.999179     0.209966      0.216168\n",
       "min      41.000000     11.000000    -1.000000      0.000000\n",
       "25%     121.000000     22.000000    -0.025000      0.385937\n",
       "50%     225.000000     42.000000     0.066667      0.505046\n",
       "75%     486.750000     91.000000     0.190476      0.621667\n",
       "max    7119.000000   1151.000000     1.000000      1.000000"
      ]
     },
     "execution_count": 43,
     "metadata": {},
     "output_type": "execute_result"
    }
   ],
   "source": [
    "comb.describe()"
   ]
  },
  {
   "cell_type": "code",
   "execution_count": null,
   "metadata": {},
   "outputs": [],
   "source": [
    "comb.groupby('number_words').size().plot.hist();"
   ]
  },
  {
   "cell_type": "code",
   "execution_count": 38,
   "metadata": {},
   "outputs": [
    {
     "data": {
      "image/png": "[encoded data removed]",
      "text/plain": [
       "<Figure size 720x720 with 4 Axes>"
      ]
     },
     "metadata": {},
     "output_type": "display_data"
    }
   ],
   "source": [
    "comb.hist(figsize=(10,10));\n",
    "#the new metrics have a more intersting distribution I think it would pay to focus on them over the word counts "
   ]
  },
  {
   "cell_type": "code",
   "execution_count": 39,
   "metadata": {},
   "outputs": [
    {
     "data": {
      "image/png": "[encoded data removed]",
      "text/plain": [
       "<Figure size 720x720 with 2 Axes>"
      ]
     },
     "metadata": {},
     "output_type": "display_data"
    }
   ],
   "source": [
    "plt.figure(figsize=(10, 10))\n",
    "plt.fontsize = 32\n",
    "sns.heatmap(comb.corr()[['number_words']].sort_values('number_words', ascending=False), \n",
    "            annot=True, cmap='Spectral', vmax=1);\n",
    "# the length of words and number of words is not going to really give us insight into the data. \n",
    "# We are not interested in the education of the users bc our goal is to gain insight into how we can get \n",
    "# This does not make me want to compare them.\n"
   ]
  },
  {
   "cell_type": "markdown",
   "metadata": {},
   "source": [
    "Visuals for presentation"
   ]
  },
  {
   "cell_type": "code",
   "execution_count": 40,
   "metadata": {},
   "outputs": [
    {
     "data": {
      "text/plain": [
       "Text(0.5, 1.0, \"polarity's relationship to subjectivity\")"
      ]
     },
     "execution_count": 40,
     "metadata": {},
     "output_type": "execute_result"
    },
    {
     "data": {
      "image/png": "[encoded data removed]",
      "text/plain": [
       "<Figure size 504x504 with 1 Axes>"
      ]
     },
     "metadata": {},
     "output_type": "display_data"
    }
   ],
   "source": [
    "plt.figure(figsize=(7,7));\n",
    "plt.scatter(x=comb['polarity'], y=comb['subjectivity']);\n",
    "plt.axvline(-.3, color='r', linestyle='-',label='');\n",
    "plt.axvline(.3, color='r', linestyle='-',label='');\n",
    "plt.title(\"polarity's relationship to subjectivity\", fontsize=20)\n",
    "#The relationship between both meterics are really the same in each"
   ]
  },
  {
   "cell_type": "code",
   "execution_count": 41,
   "metadata": {},
   "outputs": [
    {
     "data": {
      "image/png": "[encoded data removed]",
      "text/plain": [
       "<Figure size 1008x576 with 1 Axes>"
      ]
     },
     "metadata": {},
     "output_type": "display_data"
    }
   ],
   "source": [
    "pole=comb[['polarity']]\n",
    "plt.figure(figsize=(14,8));\n",
    "sns.violinplot(data=pole, palette=\"coolwarm\", inner=\"points\", orient=\"h\");\n",
    "plt.title('The distribution of polarity in MensRights', fontsize=20);"
   ]
  },
  {
   "cell_type": "code",
   "execution_count": 42,
   "metadata": {},
   "outputs": [
    {
     "data": {
      "image/png": "[encoded data removed]",
      "text/plain": [
       "<Figure size 1008x576 with 1 Axes>"
      ]
     },
     "metadata": {},
     "output_type": "display_data"
    }
   ],
   "source": [
    "subj=comb[['subjectivity']]\n",
    "plt.figure(figsize=(14,8));\n",
    "sns.violinplot(data=subj, palette=\"Spectral\", inner=\"points\", orient=\"h\");\n",
    "plt.title('The distribution of subjectivity in MensRights', fontsize=20);"
   ]
  },
  {
   "cell_type": "code",
   "execution_count": null,
   "metadata": {},
   "outputs": [],
   "source": []
  }
 ],
 "metadata": {
  "kernelspec": {
   "display_name": "Python 3",
   "language": "python",
   "name": "python3"
  },
  "language_info": {
   "codemirror_mode": {
    "name": "ipython",
    "version": 3
   },
   "file_extension": ".py",
   "mimetype": "text/x-python",
   "name": "python",
   "nbconvert_exporter": "python",
   "pygments_lexer": "ipython3",
   "version": "3.8.5"
  }
 },
 "nbformat": 4,
 "nbformat_minor": 4
}
