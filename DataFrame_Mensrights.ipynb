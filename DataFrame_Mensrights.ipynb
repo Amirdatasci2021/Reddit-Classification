{
 "cells": [
  {
   "cell_type": "markdown",
   "metadata": {},
   "source": [
    "# Mensrights Prep: EDA, Lexicon Analysis, Sentiment Analysis and Export for modeling"
   ]
  },
  {
   "cell_type": "markdown",
   "metadata": {},
   "source": [
    "Imports and overview of where the files are in relation to one another."
   ]
  },
  {
   "cell_type": "code",
   "execution_count": 1,
   "metadata": {},
   "outputs": [
    {
     "name": "stdout",
     "output_type": "stream",
     "text": [
      "These are the files in mensrights:\n",
      "['use1.csv', 'use10.csv', 'use2.csv', 'use3.csv', 'use4.5.csv', 'use4.csv', 'use6.csv', 'use7.csv', 'use9.csv']\n",
      "\n",
      "\n",
      "These are the files in Femenism:\n",
      "['test.csv', 'test11.csv', 'test12.csv', 'test13.csv', 'test2.csv', 'test3.csv', 'test4.csv', 'test5.csv', 'test6.csv', 'test7.csv', 'test8.csv', 'test9.csv']\n"
     ]
    }
   ],
   "source": [
    "from os import listdir\n",
    "from os.path import isfile, join\n",
    "import pandas as pd\n",
    "pd.options.display.max_colwidth = 1000\n",
    "import numpy as np\n",
    "\n",
    "import matplotlib.pyplot as plt\n",
    "import seaborn as sns\n",
    "sns.set()\n",
    "\n",
    "\n",
    "#Files are seperated for organizational purposes there are two types of files submission files\n",
    "#that are less text heavy and comments which are text heavy but also often are removed and contain messy html \n",
    "\n",
    "mypath='./data/mensrights/'\n",
    "onlyfiles = [f for f in listdir(mypath) if isfile(join(mypath, f))]\n",
    "\n",
    "myotherpath='./data/women/'\n",
    "onlyfiles1 = [f for f in listdir(myotherpath) if isfile(join(myotherpath, f))]\n",
    "\n",
    "print(f\"These are the files in mensrights:\\n{onlyfiles}\\\n",
    "\\n\\n\\nThese are the files in Femenism:\\n{onlyfiles1}\")"
   ]
  },
  {
   "cell_type": "markdown",
   "metadata": {},
   "source": [
    "Begin the bringing in of the files for the  Concat process "
   ]
  },
  {
   "cell_type": "code",
   "execution_count": 2,
   "metadata": {},
   "outputs": [
    {
     "data": {
      "text/plain": [
       "(100, 3)"
      ]
     },
     "execution_count": 2,
     "metadata": {},
     "output_type": "execute_result"
    }
   ],
   "source": [
    "first='use1.csv'# Name of file\n",
    "one=pd.read_csv('./data/mensrights/'+first)#opening the file\n",
    "one.drop('Unnamed: 0', axis=1, inplace=True)#dropping the old index which was later modified in the intial save\n",
    "one.rename(columns={'body': 'text'},inplace=True)#uniform name for body and selftext\n",
    "one.shape#confirming how many columns are in your dataframe"
   ]
  },
  {
   "cell_type": "code",
   "execution_count": 3,
   "metadata": {},
   "outputs": [
    {
     "data": {
      "text/plain": [
       "(2000, 3)"
      ]
     },
     "execution_count": 3,
     "metadata": {},
     "output_type": "execute_result"
    }
   ],
   "source": [
    "second='use2.csv'\n",
    "two =pd.read_csv('./data/mensrights/'+second)\n",
    "two.drop('Unnamed: 0', axis=1, inplace=True)\n",
    "two.rename(columns={'selftext': 'text'},inplace=True)\n",
    "two.shape"
   ]
  },
  {
   "cell_type": "code",
   "execution_count": 4,
   "metadata": {},
   "outputs": [
    {
     "data": {
      "text/plain": [
       "(2000, 3)"
      ]
     },
     "execution_count": 4,
     "metadata": {},
     "output_type": "execute_result"
    }
   ],
   "source": [
    "third='use9.csv'\n",
    "three=pd.read_csv('./data/mensrights/'+third)\n",
    "three.drop('Unnamed: 0', axis=1, inplace=True)\n",
    "three.rename(columns={'body': 'text'},inplace=True)\n",
    "three.shape"
   ]
  },
  {
   "cell_type": "code",
   "execution_count": 5,
   "metadata": {},
   "outputs": [
    {
     "data": {
      "text/plain": [
       "(2000, 3)"
      ]
     },
     "execution_count": 5,
     "metadata": {},
     "output_type": "execute_result"
    }
   ],
   "source": [
    "third='use9.csv'\n",
    "three=pd.read_csv('./data/mensrights/'+third)\n",
    "three.drop('Unnamed: 0', axis=1, inplace=True)\n",
    "three.rename(columns={'body': 'text'},inplace=True)\n",
    "three.shape"
   ]
  },
  {
   "cell_type": "code",
   "execution_count": 6,
   "metadata": {},
   "outputs": [
    {
     "data": {
      "text/plain": [
       "(2000, 3)"
      ]
     },
     "execution_count": 6,
     "metadata": {},
     "output_type": "execute_result"
    }
   ],
   "source": [
    "fourth='use10.csv'\n",
    "four=pd.read_csv('./data/mensrights/'+fourth)\n",
    "four.drop('Unnamed: 0', axis=1, inplace=True)\n",
    "four.rename(columns={'body': 'text'},inplace=True)\n",
    "four.shape"
   ]
  },
  {
   "cell_type": "code",
   "execution_count": 7,
   "metadata": {},
   "outputs": [
    {
     "data": {
      "text/plain": [
       "(2000, 3)"
      ]
     },
     "execution_count": 7,
     "metadata": {},
     "output_type": "execute_result"
    }
   ],
   "source": [
    "fifth='use3.csv'\n",
    "five =pd.read_csv('./data/mensrights/'+fifth)\n",
    "five.drop('Unnamed: 0', axis=1, inplace=True)\n",
    "five.rename(columns={'selftext': 'text'},inplace=True)\n",
    "five.shape"
   ]
  },
  {
   "cell_type": "code",
   "execution_count": 8,
   "metadata": {},
   "outputs": [
    {
     "data": {
      "text/plain": [
       "(2000, 3)"
      ]
     },
     "execution_count": 8,
     "metadata": {},
     "output_type": "execute_result"
    }
   ],
   "source": [
    "sixth='use4.csv'\n",
    "six =pd.read_csv('./data/mensrights/'+sixth)\n",
    "six.drop('Unnamed: 0', axis=1, inplace=True)\n",
    "six.rename(columns={'selftext': 'text'},inplace=True)\n",
    "six.shape"
   ]
  },
  {
   "cell_type": "markdown",
   "metadata": {},
   "source": [
    "Concat the files into one DataFrame"
   ]
  },
  {
   "cell_type": "code",
   "execution_count": 9,
   "metadata": {},
   "outputs": [],
   "source": [
    "comb=pd.concat([one, two, three,four,five,six])"
   ]
  },
  {
   "cell_type": "code",
   "execution_count": 10,
   "metadata": {},
   "outputs": [],
   "source": [
    "comb.dropna(inplace=True)#drop nulls "
   ]
  },
  {
   "cell_type": "code",
   "execution_count": 11,
   "metadata": {},
   "outputs": [
    {
     "data": {
      "text/plain": [
       "(6885, 3)"
      ]
     },
     "execution_count": 11,
     "metadata": {},
     "output_type": "execute_result"
    }
   ],
   "source": [
    "comb.shape"
   ]
  },
  {
   "cell_type": "markdown",
   "metadata": {},
   "source": [
    "Combined file needs to be cleaned"
   ]
  },
  {
   "cell_type": "code",
   "execution_count": 13,
   "metadata": {},
   "outputs": [],
   "source": [
    "comb.replace('/(\\r\\n)+|\\r+|\\n+|\\t+/', ' ', regex=True, inplace=True)\n",
    "#kill the line brreaks and tabs\n",
    "comb.replace('http[s]?://(?:[a-zA-Z]|[0-9]|[$-_@.&+]|[!*\\(\\),]|(?:%[0-9a-fA-F][0-9a-fA-F]))+', ' ', regex=True, inplace=True)\n",
    "#The structure of the links is not like html href it looks more like markdown\n",
    "comb['text'] = comb.text.str.replace(r'[^a-zA-Z ]\\s?','&',regex=True)\n",
    "#Since we are looking to tokenize words we will remove all special charecters and digits\n",
    "#Removes the protocol for links and also some of the ending\n",
    "comb['text'] = comb.text.str.replace(r'&',' ',regex=True)\n",
    "#Removes the space holder to a white space\n",
    "comb['text'].replace(' ', np.nan, inplace=True)\n",
    "#Turns anything that is just white space to a numpy NAN "
   ]
  },
  {
   "cell_type": "code",
   "execution_count": 14,
   "metadata": {},
   "outputs": [],
   "source": [
    "comb['text'] = comb.text.str.replace(r' removed','&',regex=True)\n",
    "comb['text'] = comb.text.str.replace(r' deleted','&',regex=True)\n",
    "#The posts removed and deleted much like the URLs are pesky and require extra attention\n",
    "comb['text'] = comb.text.str.replace(r'&','',regex=True)\n",
    "comb['text'].replace(' ', np.nan, inplace=True)\n",
    "#Turn them to NANs so we can drop them quickly"
   ]
  },
  {
   "cell_type": "code",
   "execution_count": 15,
   "metadata": {},
   "outputs": [
    {
     "data": {
      "text/plain": [
       "(5281, 3)"
      ]
     },
     "execution_count": 15,
     "metadata": {},
     "output_type": "execute_result"
    }
   ],
   "source": [
    "comb.dropna(inplace=True)\n",
    "comb.shape"
   ]
  },
  {
   "cell_type": "code",
   "execution_count": 16,
   "metadata": {},
   "outputs": [],
   "source": [
    "from sklearn.feature_extraction import text\n",
    "extra_stop_words=['just','like','don','people','think','know','want','gt','say','make','really','good','right','said','ve','time','need','way','doesn','did','post','life','rights','point','things','view','actually','yes','poll','didn','ll','feel','day','mean']\n",
    "stop_words = text.ENGLISH_STOP_WORDS.union(extra_stop_words)"
   ]
  },
  {
   "cell_type": "markdown",
   "metadata": {},
   "source": [
    "Let us visualize "
   ]
  },
  {
   "cell_type": "code",
   "execution_count": 17,
   "metadata": {},
   "outputs": [
    {
     "data": {
      "text/html": [
       "<div>\n",
       "<style scoped>\n",
       "    .dataframe tbody tr th:only-of-type {\n",
       "        vertical-align: middle;\n",
       "    }\n",
       "\n",
       "    .dataframe tbody tr th {\n",
       "        vertical-align: top;\n",
       "    }\n",
       "\n",
       "    .dataframe thead th {\n",
       "        text-align: right;\n",
       "    }\n",
       "</style>\n",
       "<table border=\"1\" class=\"dataframe\">\n",
       "  <thead>\n",
       "    <tr style=\"text-align: right;\">\n",
       "      <th></th>\n",
       "      <th>aback</th>\n",
       "      <th>abandon</th>\n",
       "      <th>abandoned</th>\n",
       "      <th>abbreviation</th>\n",
       "      <th>abby</th>\n",
       "      <th>abc</th>\n",
       "      <th>abdicating</th>\n",
       "      <th>abdication</th>\n",
       "      <th>abducted</th>\n",
       "      <th>abducting</th>\n",
       "      <th>...</th>\n",
       "      <th>zeitgeist</th>\n",
       "      <th>zero</th>\n",
       "      <th>zilch</th>\n",
       "      <th>zodiac</th>\n",
       "      <th>zodilaces</th>\n",
       "      <th>zone</th>\n",
       "      <th>zones</th>\n",
       "      <th>zoning</th>\n",
       "      <th>zoom</th>\n",
       "      <th>zygomatic</th>\n",
       "    </tr>\n",
       "  </thead>\n",
       "  <tbody>\n",
       "    <tr>\n",
       "      <th>0</th>\n",
       "      <td>0</td>\n",
       "      <td>0</td>\n",
       "      <td>0</td>\n",
       "      <td>0</td>\n",
       "      <td>0</td>\n",
       "      <td>0</td>\n",
       "      <td>0</td>\n",
       "      <td>0</td>\n",
       "      <td>0</td>\n",
       "      <td>0</td>\n",
       "      <td>...</td>\n",
       "      <td>0</td>\n",
       "      <td>0</td>\n",
       "      <td>0</td>\n",
       "      <td>0</td>\n",
       "      <td>0</td>\n",
       "      <td>0</td>\n",
       "      <td>0</td>\n",
       "      <td>0</td>\n",
       "      <td>0</td>\n",
       "      <td>0</td>\n",
       "    </tr>\n",
       "    <tr>\n",
       "      <th>1</th>\n",
       "      <td>0</td>\n",
       "      <td>0</td>\n",
       "      <td>0</td>\n",
       "      <td>0</td>\n",
       "      <td>0</td>\n",
       "      <td>0</td>\n",
       "      <td>0</td>\n",
       "      <td>0</td>\n",
       "      <td>0</td>\n",
       "      <td>0</td>\n",
       "      <td>...</td>\n",
       "      <td>0</td>\n",
       "      <td>0</td>\n",
       "      <td>0</td>\n",
       "      <td>0</td>\n",
       "      <td>0</td>\n",
       "      <td>0</td>\n",
       "      <td>0</td>\n",
       "      <td>0</td>\n",
       "      <td>0</td>\n",
       "      <td>0</td>\n",
       "    </tr>\n",
       "    <tr>\n",
       "      <th>2</th>\n",
       "      <td>0</td>\n",
       "      <td>0</td>\n",
       "      <td>0</td>\n",
       "      <td>0</td>\n",
       "      <td>0</td>\n",
       "      <td>0</td>\n",
       "      <td>0</td>\n",
       "      <td>0</td>\n",
       "      <td>0</td>\n",
       "      <td>0</td>\n",
       "      <td>...</td>\n",
       "      <td>0</td>\n",
       "      <td>0</td>\n",
       "      <td>0</td>\n",
       "      <td>0</td>\n",
       "      <td>0</td>\n",
       "      <td>0</td>\n",
       "      <td>0</td>\n",
       "      <td>0</td>\n",
       "      <td>0</td>\n",
       "      <td>0</td>\n",
       "    </tr>\n",
       "    <tr>\n",
       "      <th>3</th>\n",
       "      <td>0</td>\n",
       "      <td>0</td>\n",
       "      <td>0</td>\n",
       "      <td>0</td>\n",
       "      <td>0</td>\n",
       "      <td>0</td>\n",
       "      <td>0</td>\n",
       "      <td>0</td>\n",
       "      <td>0</td>\n",
       "      <td>0</td>\n",
       "      <td>...</td>\n",
       "      <td>0</td>\n",
       "      <td>0</td>\n",
       "      <td>0</td>\n",
       "      <td>0</td>\n",
       "      <td>0</td>\n",
       "      <td>0</td>\n",
       "      <td>0</td>\n",
       "      <td>0</td>\n",
       "      <td>0</td>\n",
       "      <td>0</td>\n",
       "    </tr>\n",
       "    <tr>\n",
       "      <th>4</th>\n",
       "      <td>0</td>\n",
       "      <td>0</td>\n",
       "      <td>0</td>\n",
       "      <td>0</td>\n",
       "      <td>0</td>\n",
       "      <td>0</td>\n",
       "      <td>0</td>\n",
       "      <td>0</td>\n",
       "      <td>0</td>\n",
       "      <td>0</td>\n",
       "      <td>...</td>\n",
       "      <td>0</td>\n",
       "      <td>0</td>\n",
       "      <td>0</td>\n",
       "      <td>0</td>\n",
       "      <td>0</td>\n",
       "      <td>0</td>\n",
       "      <td>0</td>\n",
       "      <td>0</td>\n",
       "      <td>0</td>\n",
       "      <td>0</td>\n",
       "    </tr>\n",
       "    <tr>\n",
       "      <th>...</th>\n",
       "      <td>...</td>\n",
       "      <td>...</td>\n",
       "      <td>...</td>\n",
       "      <td>...</td>\n",
       "      <td>...</td>\n",
       "      <td>...</td>\n",
       "      <td>...</td>\n",
       "      <td>...</td>\n",
       "      <td>...</td>\n",
       "      <td>...</td>\n",
       "      <td>...</td>\n",
       "      <td>...</td>\n",
       "      <td>...</td>\n",
       "      <td>...</td>\n",
       "      <td>...</td>\n",
       "      <td>...</td>\n",
       "      <td>...</td>\n",
       "      <td>...</td>\n",
       "      <td>...</td>\n",
       "      <td>...</td>\n",
       "      <td>...</td>\n",
       "    </tr>\n",
       "    <tr>\n",
       "      <th>5276</th>\n",
       "      <td>0</td>\n",
       "      <td>0</td>\n",
       "      <td>0</td>\n",
       "      <td>0</td>\n",
       "      <td>0</td>\n",
       "      <td>0</td>\n",
       "      <td>0</td>\n",
       "      <td>0</td>\n",
       "      <td>0</td>\n",
       "      <td>0</td>\n",
       "      <td>...</td>\n",
       "      <td>0</td>\n",
       "      <td>0</td>\n",
       "      <td>0</td>\n",
       "      <td>0</td>\n",
       "      <td>0</td>\n",
       "      <td>0</td>\n",
       "      <td>0</td>\n",
       "      <td>0</td>\n",
       "      <td>0</td>\n",
       "      <td>0</td>\n",
       "    </tr>\n",
       "    <tr>\n",
       "      <th>5277</th>\n",
       "      <td>0</td>\n",
       "      <td>0</td>\n",
       "      <td>0</td>\n",
       "      <td>0</td>\n",
       "      <td>0</td>\n",
       "      <td>0</td>\n",
       "      <td>0</td>\n",
       "      <td>0</td>\n",
       "      <td>0</td>\n",
       "      <td>0</td>\n",
       "      <td>...</td>\n",
       "      <td>0</td>\n",
       "      <td>0</td>\n",
       "      <td>0</td>\n",
       "      <td>0</td>\n",
       "      <td>0</td>\n",
       "      <td>0</td>\n",
       "      <td>0</td>\n",
       "      <td>0</td>\n",
       "      <td>0</td>\n",
       "      <td>0</td>\n",
       "    </tr>\n",
       "    <tr>\n",
       "      <th>5278</th>\n",
       "      <td>0</td>\n",
       "      <td>0</td>\n",
       "      <td>0</td>\n",
       "      <td>0</td>\n",
       "      <td>0</td>\n",
       "      <td>0</td>\n",
       "      <td>0</td>\n",
       "      <td>0</td>\n",
       "      <td>0</td>\n",
       "      <td>0</td>\n",
       "      <td>...</td>\n",
       "      <td>0</td>\n",
       "      <td>0</td>\n",
       "      <td>0</td>\n",
       "      <td>0</td>\n",
       "      <td>0</td>\n",
       "      <td>0</td>\n",
       "      <td>0</td>\n",
       "      <td>0</td>\n",
       "      <td>0</td>\n",
       "      <td>0</td>\n",
       "    </tr>\n",
       "    <tr>\n",
       "      <th>5279</th>\n",
       "      <td>0</td>\n",
       "      <td>0</td>\n",
       "      <td>0</td>\n",
       "      <td>0</td>\n",
       "      <td>0</td>\n",
       "      <td>0</td>\n",
       "      <td>0</td>\n",
       "      <td>0</td>\n",
       "      <td>0</td>\n",
       "      <td>0</td>\n",
       "      <td>...</td>\n",
       "      <td>0</td>\n",
       "      <td>0</td>\n",
       "      <td>0</td>\n",
       "      <td>0</td>\n",
       "      <td>0</td>\n",
       "      <td>0</td>\n",
       "      <td>0</td>\n",
       "      <td>0</td>\n",
       "      <td>0</td>\n",
       "      <td>0</td>\n",
       "    </tr>\n",
       "    <tr>\n",
       "      <th>5280</th>\n",
       "      <td>0</td>\n",
       "      <td>0</td>\n",
       "      <td>0</td>\n",
       "      <td>0</td>\n",
       "      <td>0</td>\n",
       "      <td>0</td>\n",
       "      <td>0</td>\n",
       "      <td>0</td>\n",
       "      <td>0</td>\n",
       "      <td>0</td>\n",
       "      <td>...</td>\n",
       "      <td>0</td>\n",
       "      <td>0</td>\n",
       "      <td>0</td>\n",
       "      <td>0</td>\n",
       "      <td>0</td>\n",
       "      <td>0</td>\n",
       "      <td>0</td>\n",
       "      <td>0</td>\n",
       "      <td>0</td>\n",
       "      <td>0</td>\n",
       "    </tr>\n",
       "  </tbody>\n",
       "</table>\n",
       "<p>5281 rows × 10896 columns</p>\n",
       "</div>"
      ],
      "text/plain": [
       "      aback  abandon  abandoned  abbreviation  abby  abc  abdicating  \\\n",
       "0         0        0          0             0     0    0           0   \n",
       "1         0        0          0             0     0    0           0   \n",
       "2         0        0          0             0     0    0           0   \n",
       "3         0        0          0             0     0    0           0   \n",
       "4         0        0          0             0     0    0           0   \n",
       "...     ...      ...        ...           ...   ...  ...         ...   \n",
       "5276      0        0          0             0     0    0           0   \n",
       "5277      0        0          0             0     0    0           0   \n",
       "5278      0        0          0             0     0    0           0   \n",
       "5279      0        0          0             0     0    0           0   \n",
       "5280      0        0          0             0     0    0           0   \n",
       "\n",
       "      abdication  abducted  abducting  ...  zeitgeist  zero  zilch  zodiac  \\\n",
       "0              0         0          0  ...          0     0      0       0   \n",
       "1              0         0          0  ...          0     0      0       0   \n",
       "2              0         0          0  ...          0     0      0       0   \n",
       "3              0         0          0  ...          0     0      0       0   \n",
       "4              0         0          0  ...          0     0      0       0   \n",
       "...          ...       ...        ...  ...        ...   ...    ...     ...   \n",
       "5276           0         0          0  ...          0     0      0       0   \n",
       "5277           0         0          0  ...          0     0      0       0   \n",
       "5278           0         0          0  ...          0     0      0       0   \n",
       "5279           0         0          0  ...          0     0      0       0   \n",
       "5280           0         0          0  ...          0     0      0       0   \n",
       "\n",
       "      zodilaces  zone  zones  zoning  zoom  zygomatic  \n",
       "0             0     0      0       0     0          0  \n",
       "1             0     0      0       0     0          0  \n",
       "2             0     0      0       0     0          0  \n",
       "3             0     0      0       0     0          0  \n",
       "4             0     0      0       0     0          0  \n",
       "...         ...   ...    ...     ...   ...        ...  \n",
       "5276          0     0      0       0     0          0  \n",
       "5277          0     0      0       0     0          0  \n",
       "5278          0     0      0       0     0          0  \n",
       "5279          0     0      0       0     0          0  \n",
       "5280          0     0      0       0     0          0  \n",
       "\n",
       "[5281 rows x 10896 columns]"
      ]
     },
     "execution_count": 17,
     "metadata": {},
     "output_type": "execute_result"
    }
   ],
   "source": [
    "from sklearn.feature_extraction.text import CountVectorizer, TfidfVectorizer\n",
    "cvec = CountVectorizer(stop_words=stop_words)\n",
    "#Add the stop words so that we can get some actual idea of the most prevelent words\n",
    "X = comb.text\n",
    "cvec.fit(X)\n",
    "text_cv = cvec.transform(comb.text)\n",
    "#Transform\n",
    "text_df = pd.DataFrame(text_cv.todense(), columns=cvec.get_feature_names())\n",
    "text_df"
   ]
  },
  {
   "cell_type": "code",
   "execution_count": 18,
   "metadata": {},
   "outputs": [
    {
     "data": {
      "text/plain": [
       "men      4651\n",
       "women    3724\n",
       "man       910\n",
       "woman     793\n",
       "male      721\n",
       "dtype: int64"
      ]
     },
     "execution_count": 18,
     "metadata": {},
     "output_type": "execute_result"
    }
   ],
   "source": [
    "text_df.sum().sort_values(ascending = False).head(5)"
   ]
  },
  {
   "cell_type": "code",
   "execution_count": 19,
   "metadata": {},
   "outputs": [
    {
     "data": {
      "image/png": "[encoded data removed]",
      "text/plain": [
       "<Figure size 1080x504 with 1 Axes>"
      ]
     },
     "metadata": {},
     "output_type": "display_data"
    }
   ],
   "source": [
    "text_df.sum().sort_values(ascending = False).head(5).plot(kind='bar',figsize=(15,7));"
   ]
  },
  {
   "cell_type": "code",
   "execution_count": 20,
   "metadata": {},
   "outputs": [
    {
     "data": {
      "text/plain": [
       "(5281, 10896)"
      ]
     },
     "execution_count": 20,
     "metadata": {},
     "output_type": "execute_result"
    }
   ],
   "source": [
    "text_df.shape"
   ]
  },
  {
   "cell_type": "code",
   "execution_count": 21,
   "metadata": {},
   "outputs": [
    {
     "data": {
      "text/html": [
       "<div>\n",
       "<style scoped>\n",
       "    .dataframe tbody tr th:only-of-type {\n",
       "        vertical-align: middle;\n",
       "    }\n",
       "\n",
       "    .dataframe tbody tr th {\n",
       "        vertical-align: top;\n",
       "    }\n",
       "\n",
       "    .dataframe thead th {\n",
       "        text-align: right;\n",
       "    }\n",
       "</style>\n",
       "<table border=\"1\" class=\"dataframe\">\n",
       "  <thead>\n",
       "    <tr style=\"text-align: right;\">\n",
       "      <th></th>\n",
       "      <th>aback</th>\n",
       "      <th>abandon</th>\n",
       "      <th>abandoned</th>\n",
       "      <th>abbreviation</th>\n",
       "      <th>abby</th>\n",
       "      <th>abc</th>\n",
       "      <th>abdicating</th>\n",
       "      <th>abdication</th>\n",
       "      <th>abducted</th>\n",
       "      <th>abducting</th>\n",
       "      <th>...</th>\n",
       "      <th>zeitgeist</th>\n",
       "      <th>zero</th>\n",
       "      <th>zilch</th>\n",
       "      <th>zodiac</th>\n",
       "      <th>zodilaces</th>\n",
       "      <th>zone</th>\n",
       "      <th>zones</th>\n",
       "      <th>zoning</th>\n",
       "      <th>zoom</th>\n",
       "      <th>zygomatic</th>\n",
       "    </tr>\n",
       "  </thead>\n",
       "  <tbody>\n",
       "    <tr>\n",
       "      <th>0</th>\n",
       "      <td>0.0</td>\n",
       "      <td>0.0</td>\n",
       "      <td>0.0</td>\n",
       "      <td>0.0</td>\n",
       "      <td>0.0</td>\n",
       "      <td>0.0</td>\n",
       "      <td>0.0</td>\n",
       "      <td>0.0</td>\n",
       "      <td>0.0</td>\n",
       "      <td>0.0</td>\n",
       "      <td>...</td>\n",
       "      <td>0.0</td>\n",
       "      <td>0.0</td>\n",
       "      <td>0.0</td>\n",
       "      <td>0.0</td>\n",
       "      <td>0.0</td>\n",
       "      <td>0.0</td>\n",
       "      <td>0.0</td>\n",
       "      <td>0.0</td>\n",
       "      <td>0.0</td>\n",
       "      <td>0.0</td>\n",
       "    </tr>\n",
       "    <tr>\n",
       "      <th>1</th>\n",
       "      <td>0.0</td>\n",
       "      <td>0.0</td>\n",
       "      <td>0.0</td>\n",
       "      <td>0.0</td>\n",
       "      <td>0.0</td>\n",
       "      <td>0.0</td>\n",
       "      <td>0.0</td>\n",
       "      <td>0.0</td>\n",
       "      <td>0.0</td>\n",
       "      <td>0.0</td>\n",
       "      <td>...</td>\n",
       "      <td>0.0</td>\n",
       "      <td>0.0</td>\n",
       "      <td>0.0</td>\n",
       "      <td>0.0</td>\n",
       "      <td>0.0</td>\n",
       "      <td>0.0</td>\n",
       "      <td>0.0</td>\n",
       "      <td>0.0</td>\n",
       "      <td>0.0</td>\n",
       "      <td>0.0</td>\n",
       "    </tr>\n",
       "    <tr>\n",
       "      <th>2</th>\n",
       "      <td>0.0</td>\n",
       "      <td>0.0</td>\n",
       "      <td>0.0</td>\n",
       "      <td>0.0</td>\n",
       "      <td>0.0</td>\n",
       "      <td>0.0</td>\n",
       "      <td>0.0</td>\n",
       "      <td>0.0</td>\n",
       "      <td>0.0</td>\n",
       "      <td>0.0</td>\n",
       "      <td>...</td>\n",
       "      <td>0.0</td>\n",
       "      <td>0.0</td>\n",
       "      <td>0.0</td>\n",
       "      <td>0.0</td>\n",
       "      <td>0.0</td>\n",
       "      <td>0.0</td>\n",
       "      <td>0.0</td>\n",
       "      <td>0.0</td>\n",
       "      <td>0.0</td>\n",
       "      <td>0.0</td>\n",
       "    </tr>\n",
       "    <tr>\n",
       "      <th>3</th>\n",
       "      <td>0.0</td>\n",
       "      <td>0.0</td>\n",
       "      <td>0.0</td>\n",
       "      <td>0.0</td>\n",
       "      <td>0.0</td>\n",
       "      <td>0.0</td>\n",
       "      <td>0.0</td>\n",
       "      <td>0.0</td>\n",
       "      <td>0.0</td>\n",
       "      <td>0.0</td>\n",
       "      <td>...</td>\n",
       "      <td>0.0</td>\n",
       "      <td>0.0</td>\n",
       "      <td>0.0</td>\n",
       "      <td>0.0</td>\n",
       "      <td>0.0</td>\n",
       "      <td>0.0</td>\n",
       "      <td>0.0</td>\n",
       "      <td>0.0</td>\n",
       "      <td>0.0</td>\n",
       "      <td>0.0</td>\n",
       "    </tr>\n",
       "    <tr>\n",
       "      <th>4</th>\n",
       "      <td>0.0</td>\n",
       "      <td>0.0</td>\n",
       "      <td>0.0</td>\n",
       "      <td>0.0</td>\n",
       "      <td>0.0</td>\n",
       "      <td>0.0</td>\n",
       "      <td>0.0</td>\n",
       "      <td>0.0</td>\n",
       "      <td>0.0</td>\n",
       "      <td>0.0</td>\n",
       "      <td>...</td>\n",
       "      <td>0.0</td>\n",
       "      <td>0.0</td>\n",
       "      <td>0.0</td>\n",
       "      <td>0.0</td>\n",
       "      <td>0.0</td>\n",
       "      <td>0.0</td>\n",
       "      <td>0.0</td>\n",
       "      <td>0.0</td>\n",
       "      <td>0.0</td>\n",
       "      <td>0.0</td>\n",
       "    </tr>\n",
       "    <tr>\n",
       "      <th>...</th>\n",
       "      <td>...</td>\n",
       "      <td>...</td>\n",
       "      <td>...</td>\n",
       "      <td>...</td>\n",
       "      <td>...</td>\n",
       "      <td>...</td>\n",
       "      <td>...</td>\n",
       "      <td>...</td>\n",
       "      <td>...</td>\n",
       "      <td>...</td>\n",
       "      <td>...</td>\n",
       "      <td>...</td>\n",
       "      <td>...</td>\n",
       "      <td>...</td>\n",
       "      <td>...</td>\n",
       "      <td>...</td>\n",
       "      <td>...</td>\n",
       "      <td>...</td>\n",
       "      <td>...</td>\n",
       "      <td>...</td>\n",
       "      <td>...</td>\n",
       "    </tr>\n",
       "    <tr>\n",
       "      <th>5276</th>\n",
       "      <td>0.0</td>\n",
       "      <td>0.0</td>\n",
       "      <td>0.0</td>\n",
       "      <td>0.0</td>\n",
       "      <td>0.0</td>\n",
       "      <td>0.0</td>\n",
       "      <td>0.0</td>\n",
       "      <td>0.0</td>\n",
       "      <td>0.0</td>\n",
       "      <td>0.0</td>\n",
       "      <td>...</td>\n",
       "      <td>0.0</td>\n",
       "      <td>0.0</td>\n",
       "      <td>0.0</td>\n",
       "      <td>0.0</td>\n",
       "      <td>0.0</td>\n",
       "      <td>0.0</td>\n",
       "      <td>0.0</td>\n",
       "      <td>0.0</td>\n",
       "      <td>0.0</td>\n",
       "      <td>0.0</td>\n",
       "    </tr>\n",
       "    <tr>\n",
       "      <th>5277</th>\n",
       "      <td>0.0</td>\n",
       "      <td>0.0</td>\n",
       "      <td>0.0</td>\n",
       "      <td>0.0</td>\n",
       "      <td>0.0</td>\n",
       "      <td>0.0</td>\n",
       "      <td>0.0</td>\n",
       "      <td>0.0</td>\n",
       "      <td>0.0</td>\n",
       "      <td>0.0</td>\n",
       "      <td>...</td>\n",
       "      <td>0.0</td>\n",
       "      <td>0.0</td>\n",
       "      <td>0.0</td>\n",
       "      <td>0.0</td>\n",
       "      <td>0.0</td>\n",
       "      <td>0.0</td>\n",
       "      <td>0.0</td>\n",
       "      <td>0.0</td>\n",
       "      <td>0.0</td>\n",
       "      <td>0.0</td>\n",
       "    </tr>\n",
       "    <tr>\n",
       "      <th>5278</th>\n",
       "      <td>0.0</td>\n",
       "      <td>0.0</td>\n",
       "      <td>0.0</td>\n",
       "      <td>0.0</td>\n",
       "      <td>0.0</td>\n",
       "      <td>0.0</td>\n",
       "      <td>0.0</td>\n",
       "      <td>0.0</td>\n",
       "      <td>0.0</td>\n",
       "      <td>0.0</td>\n",
       "      <td>...</td>\n",
       "      <td>0.0</td>\n",
       "      <td>0.0</td>\n",
       "      <td>0.0</td>\n",
       "      <td>0.0</td>\n",
       "      <td>0.0</td>\n",
       "      <td>0.0</td>\n",
       "      <td>0.0</td>\n",
       "      <td>0.0</td>\n",
       "      <td>0.0</td>\n",
       "      <td>0.0</td>\n",
       "    </tr>\n",
       "    <tr>\n",
       "      <th>5279</th>\n",
       "      <td>0.0</td>\n",
       "      <td>0.0</td>\n",
       "      <td>0.0</td>\n",
       "      <td>0.0</td>\n",
       "      <td>0.0</td>\n",
       "      <td>0.0</td>\n",
       "      <td>0.0</td>\n",
       "      <td>0.0</td>\n",
       "      <td>0.0</td>\n",
       "      <td>0.0</td>\n",
       "      <td>...</td>\n",
       "      <td>0.0</td>\n",
       "      <td>0.0</td>\n",
       "      <td>0.0</td>\n",
       "      <td>0.0</td>\n",
       "      <td>0.0</td>\n",
       "      <td>0.0</td>\n",
       "      <td>0.0</td>\n",
       "      <td>0.0</td>\n",
       "      <td>0.0</td>\n",
       "      <td>0.0</td>\n",
       "    </tr>\n",
       "    <tr>\n",
       "      <th>5280</th>\n",
       "      <td>0.0</td>\n",
       "      <td>0.0</td>\n",
       "      <td>0.0</td>\n",
       "      <td>0.0</td>\n",
       "      <td>0.0</td>\n",
       "      <td>0.0</td>\n",
       "      <td>0.0</td>\n",
       "      <td>0.0</td>\n",
       "      <td>0.0</td>\n",
       "      <td>0.0</td>\n",
       "      <td>...</td>\n",
       "      <td>0.0</td>\n",
       "      <td>0.0</td>\n",
       "      <td>0.0</td>\n",
       "      <td>0.0</td>\n",
       "      <td>0.0</td>\n",
       "      <td>0.0</td>\n",
       "      <td>0.0</td>\n",
       "      <td>0.0</td>\n",
       "      <td>0.0</td>\n",
       "      <td>0.0</td>\n",
       "    </tr>\n",
       "  </tbody>\n",
       "</table>\n",
       "<p>5281 rows × 10896 columns</p>\n",
       "</div>"
      ],
      "text/plain": [
       "      aback  abandon  abandoned  abbreviation  abby  abc  abdicating  \\\n",
       "0       0.0      0.0        0.0           0.0   0.0  0.0         0.0   \n",
       "1       0.0      0.0        0.0           0.0   0.0  0.0         0.0   \n",
       "2       0.0      0.0        0.0           0.0   0.0  0.0         0.0   \n",
       "3       0.0      0.0        0.0           0.0   0.0  0.0         0.0   \n",
       "4       0.0      0.0        0.0           0.0   0.0  0.0         0.0   \n",
       "...     ...      ...        ...           ...   ...  ...         ...   \n",
       "5276    0.0      0.0        0.0           0.0   0.0  0.0         0.0   \n",
       "5277    0.0      0.0        0.0           0.0   0.0  0.0         0.0   \n",
       "5278    0.0      0.0        0.0           0.0   0.0  0.0         0.0   \n",
       "5279    0.0      0.0        0.0           0.0   0.0  0.0         0.0   \n",
       "5280    0.0      0.0        0.0           0.0   0.0  0.0         0.0   \n",
       "\n",
       "      abdication  abducted  abducting  ...  zeitgeist  zero  zilch  zodiac  \\\n",
       "0            0.0       0.0        0.0  ...        0.0   0.0    0.0     0.0   \n",
       "1            0.0       0.0        0.0  ...        0.0   0.0    0.0     0.0   \n",
       "2            0.0       0.0        0.0  ...        0.0   0.0    0.0     0.0   \n",
       "3            0.0       0.0        0.0  ...        0.0   0.0    0.0     0.0   \n",
       "4            0.0       0.0        0.0  ...        0.0   0.0    0.0     0.0   \n",
       "...          ...       ...        ...  ...        ...   ...    ...     ...   \n",
       "5276         0.0       0.0        0.0  ...        0.0   0.0    0.0     0.0   \n",
       "5277         0.0       0.0        0.0  ...        0.0   0.0    0.0     0.0   \n",
       "5278         0.0       0.0        0.0  ...        0.0   0.0    0.0     0.0   \n",
       "5279         0.0       0.0        0.0  ...        0.0   0.0    0.0     0.0   \n",
       "5280         0.0       0.0        0.0  ...        0.0   0.0    0.0     0.0   \n",
       "\n",
       "      zodilaces  zone  zones  zoning  zoom  zygomatic  \n",
       "0           0.0   0.0    0.0     0.0   0.0        0.0  \n",
       "1           0.0   0.0    0.0     0.0   0.0        0.0  \n",
       "2           0.0   0.0    0.0     0.0   0.0        0.0  \n",
       "3           0.0   0.0    0.0     0.0   0.0        0.0  \n",
       "4           0.0   0.0    0.0     0.0   0.0        0.0  \n",
       "...         ...   ...    ...     ...   ...        ...  \n",
       "5276        0.0   0.0    0.0     0.0   0.0        0.0  \n",
       "5277        0.0   0.0    0.0     0.0   0.0        0.0  \n",
       "5278        0.0   0.0    0.0     0.0   0.0        0.0  \n",
       "5279        0.0   0.0    0.0     0.0   0.0        0.0  \n",
       "5280        0.0   0.0    0.0     0.0   0.0        0.0  \n",
       "\n",
       "[5281 rows x 10896 columns]"
      ]
     },
     "execution_count": 21,
     "metadata": {},
     "output_type": "execute_result"
    }
   ],
   "source": [
    "tfid = TfidfVectorizer(stop_words=stop_words)\n",
    "#Add the stop words so that we can get some actual idea of the most prevelent words\n",
    "X = comb.text\n",
    "tfid.fit(X)\n",
    "text_tfid = tfid.transform(comb.text)\n",
    "#Transform\n",
    "text_df2 = pd.DataFrame(text_tfid.todense(), columns=tfid.get_feature_names())\n",
    "text_df2"
   ]
  },
  {
   "cell_type": "code",
   "execution_count": 22,
   "metadata": {},
   "outputs": [],
   "source": [
    "text_df2.drop([col for col, val in text_df2.sum().iteritems() if val < 10], axis=1, inplace=True)"
   ]
  },
  {
   "cell_type": "code",
   "execution_count": 23,
   "metadata": {},
   "outputs": [
    {
     "data": {
      "text/plain": [
       "men           226.582880\n",
       "women         191.115602\n",
       "man            70.468795\n",
       "woman          63.440047\n",
       "feminism       56.616998\n",
       "rape           56.149049\n",
       "feminists      54.477314\n",
       "feminist       52.534637\n",
       "male           51.469744\n",
       "sex            41.940735\n",
       "female         41.124198\n",
       "isn            38.590388\n",
       "twitter        35.602265\n",
       "thing          35.551655\n",
       "work           35.503953\n",
       "equality       34.987107\n",
       "saying         34.932002\n",
       "gender         34.709024\n",
       "hate           34.017636\n",
       "trying         33.891542\n",
       "problem        33.700242\n",
       "got            33.420844\n",
       "lot            33.331402\n",
       "sub            32.982761\n",
       "sure           32.860905\n",
       "going          32.650588\n",
       "understand     32.621915\n",
       "does           32.574303\n",
       "bad            32.553648\n",
       "sexual         32.119148\n",
       "years          32.097569\n",
       "yeah           31.995539\n",
       "issues         31.476995\n",
       "let            31.128643\n",
       "amp            30.582715\n",
       "help           30.307910\n",
       "use            30.181395\n",
       "society        29.904091\n",
       "violence       29.716379\n",
       "believe        29.625568\n",
       "shit           29.546545\n",
       "true           29.323181\n",
       "wrong          29.245890\n",
       "world          29.227443\n",
       "better         28.917048\n",
       "issue          28.826372\n",
       "agree          28.734929\n",
       "lol            28.570197\n",
       "doing          28.429158\n",
       "care           27.944315\n",
       "dtype: float64"
      ]
     },
     "execution_count": 23,
     "metadata": {},
     "output_type": "execute_result"
    }
   ],
   "source": [
    "text_df2.sum().sort_values(ascending = False).head(50)"
   ]
  },
  {
   "cell_type": "code",
   "execution_count": 24,
   "metadata": {},
   "outputs": [
    {
     "data": {
      "image/png": "[encoded data removed]",
      "text/plain": [
       "<Figure size 1080x504 with 1 Axes>"
      ]
     },
     "metadata": {},
     "output_type": "display_data"
    }
   ],
   "source": [
    "text_df2.sum().sort_values(ascending = False).head(5).plot(kind='bar',figsize=(15,7));"
   ]
  },
  {
   "cell_type": "code",
   "execution_count": 25,
   "metadata": {},
   "outputs": [
    {
     "data": {
      "text/plain": [
       "entity           1\n",
       "fraternity       1\n",
       "dem              1\n",
       "scrutinize       1\n",
       "cast             1\n",
       "belie            1\n",
       "casino           1\n",
       "ironies          1\n",
       "menopause        1\n",
       "predominantly    1\n",
       "unvalidated      1\n",
       "preemptively     1\n",
       "belittling       1\n",
       "fries            1\n",
       "spank            1\n",
       "dtype: int64"
      ]
     },
     "execution_count": 25,
     "metadata": {},
     "output_type": "execute_result"
    }
   ],
   "source": [
    "text_df.sum().sort_values(ascending = True).head(15)"
   ]
  },
  {
   "cell_type": "code",
   "execution_count": 26,
   "metadata": {},
   "outputs": [
    {
     "data": {
      "text/plain": [
       "(5281, 5)"
      ]
     },
     "execution_count": 26,
     "metadata": {},
     "output_type": "execute_result"
    }
   ],
   "source": [
    "comb['length']=comb['text'].str.len()\n",
    "comb['number_words'] = comb['text'].str.split().str.len()\n",
    "comb.shape"
   ]
  },
  {
   "cell_type": "code",
   "execution_count": 27,
   "metadata": {},
   "outputs": [
    {
     "data": {
      "text/plain": [
       "(4340, 5)"
      ]
     },
     "execution_count": 27,
     "metadata": {},
     "output_type": "execute_result"
    }
   ],
   "source": [
    "comb = comb[comb['number_words'] > 10]\n",
    "comb.shape\n"
   ]
  },
  {
   "cell_type": "code",
   "execution_count": 28,
   "metadata": {},
   "outputs": [],
   "source": [
    "\n",
    "comb[['subreddit','created_utc','text']].to_csv('./data/z_complete/men.csv',index=False)"
   ]
  },
  {
   "cell_type": "code",
   "execution_count": 29,
   "metadata": {},
   "outputs": [
    {
     "data": {
      "image/png": "[encoded data removed]",
      "text/plain": [
       "<Figure size 720x720 with 4 Axes>"
      ]
     },
     "metadata": {},
     "output_type": "display_data"
    }
   ],
   "source": [
    "comb.hist(figsize=(10,10));"
   ]
  },
  {
   "cell_type": "code",
   "execution_count": 30,
   "metadata": {},
   "outputs": [
    {
     "data": {
      "text/html": [
       "<div>\n",
       "<style scoped>\n",
       "    .dataframe tbody tr th:only-of-type {\n",
       "        vertical-align: middle;\n",
       "    }\n",
       "\n",
       "    .dataframe tbody tr th {\n",
       "        vertical-align: top;\n",
       "    }\n",
       "\n",
       "    .dataframe thead th {\n",
       "        text-align: right;\n",
       "    }\n",
       "</style>\n",
       "<table border=\"1\" class=\"dataframe\">\n",
       "  <thead>\n",
       "    <tr style=\"text-align: right;\">\n",
       "      <th></th>\n",
       "      <th>created_utc</th>\n",
       "      <th>length</th>\n",
       "      <th>number_words</th>\n",
       "    </tr>\n",
       "  </thead>\n",
       "  <tbody>\n",
       "    <tr>\n",
       "      <th>count</th>\n",
       "      <td>4.340000e+03</td>\n",
       "      <td>4340.000000</td>\n",
       "      <td>4340.000000</td>\n",
       "    </tr>\n",
       "    <tr>\n",
       "      <th>mean</th>\n",
       "      <td>1.616086e+09</td>\n",
       "      <td>516.038249</td>\n",
       "      <td>96.979263</td>\n",
       "    </tr>\n",
       "    <tr>\n",
       "      <th>std</th>\n",
       "      <td>9.893153e+05</td>\n",
       "      <td>805.526552</td>\n",
       "      <td>150.960535</td>\n",
       "    </tr>\n",
       "    <tr>\n",
       "      <th>min</th>\n",
       "      <td>1.612980e+09</td>\n",
       "      <td>33.000000</td>\n",
       "      <td>11.000000</td>\n",
       "    </tr>\n",
       "    <tr>\n",
       "      <th>25%</th>\n",
       "      <td>1.615872e+09</td>\n",
       "      <td>126.000000</td>\n",
       "      <td>24.000000</td>\n",
       "    </tr>\n",
       "    <tr>\n",
       "      <th>50%</th>\n",
       "      <td>1.615991e+09</td>\n",
       "      <td>259.000000</td>\n",
       "      <td>49.000000</td>\n",
       "    </tr>\n",
       "    <tr>\n",
       "      <th>75%</th>\n",
       "      <td>1.616916e+09</td>\n",
       "      <td>551.000000</td>\n",
       "      <td>104.000000</td>\n",
       "    </tr>\n",
       "    <tr>\n",
       "      <th>max</th>\n",
       "      <td>1.616973e+09</td>\n",
       "      <td>9440.000000</td>\n",
       "      <td>1840.000000</td>\n",
       "    </tr>\n",
       "  </tbody>\n",
       "</table>\n",
       "</div>"
      ],
      "text/plain": [
       "        created_utc       length  number_words\n",
       "count  4.340000e+03  4340.000000   4340.000000\n",
       "mean   1.616086e+09   516.038249     96.979263\n",
       "std    9.893153e+05   805.526552    150.960535\n",
       "min    1.612980e+09    33.000000     11.000000\n",
       "25%    1.615872e+09   126.000000     24.000000\n",
       "50%    1.615991e+09   259.000000     49.000000\n",
       "75%    1.616916e+09   551.000000    104.000000\n",
       "max    1.616973e+09  9440.000000   1840.000000"
      ]
     },
     "execution_count": 30,
     "metadata": {},
     "output_type": "execute_result"
    }
   ],
   "source": [
    "comb.describe()"
   ]
  },
  {
   "cell_type": "markdown",
   "metadata": {},
   "source": [
    "Sentiment Analysis & Word analyis"
   ]
  },
  {
   "cell_type": "code",
   "execution_count": 31,
   "metadata": {},
   "outputs": [],
   "source": [
    "from textblob import TextBlob\n",
    "# Added an extra library\n",
    "# for more info please visit: https://textblob.readthedocs.io/en/dev/quickstart.html#\n"
   ]
  },
  {
   "cell_type": "code",
   "execution_count": 32,
   "metadata": {},
   "outputs": [
    {
     "data": {
      "text/html": [
       "<div>\n",
       "<style scoped>\n",
       "    .dataframe tbody tr th:only-of-type {\n",
       "        vertical-align: middle;\n",
       "    }\n",
       "\n",
       "    .dataframe tbody tr th {\n",
       "        vertical-align: top;\n",
       "    }\n",
       "\n",
       "    .dataframe thead th {\n",
       "        text-align: right;\n",
       "    }\n",
       "</style>\n",
       "<table border=\"1\" class=\"dataframe\">\n",
       "  <thead>\n",
       "    <tr style=\"text-align: right;\">\n",
       "      <th></th>\n",
       "      <th>subreddit</th>\n",
       "      <th>text</th>\n",
       "      <th>created_utc</th>\n",
       "      <th>length</th>\n",
       "      <th>number_words</th>\n",
       "      <th>polarity</th>\n",
       "      <th>subjectivity</th>\n",
       "    </tr>\n",
       "  </thead>\n",
       "  <tbody>\n",
       "    <tr>\n",
       "      <th>1</th>\n",
       "      <td>MensRights</td>\n",
       "      <td>Also a point to consider is that campaign was created by an ad agency co founded by Charles Saatchi  The same guy who was cautioned by police a few years ago for putting his hands round the throat of his then wife Nigella Lawson while sat in public I ll not be taking lessons in behaviour from such a person</td>\n",
       "      <td>1616972828</td>\n",
       "      <td>308</td>\n",
       "      <td>60</td>\n",
       "      <td>-0.080000</td>\n",
       "      <td>0.238333</td>\n",
       "    </tr>\n",
       "    <tr>\n",
       "      <th>3</th>\n",
       "      <td>MensRights</td>\n",
       "      <td>It s not That same comparison gets made in every debate and thread related to this It won t make any impact other than to paint you as a racist in the eyes of the person you re making the point to</td>\n",
       "      <td>1616972806</td>\n",
       "      <td>197</td>\n",
       "      <td>42</td>\n",
       "      <td>-0.041667</td>\n",
       "      <td>0.300000</td>\n",
       "    </tr>\n",
       "    <tr>\n",
       "      <th>4</th>\n",
       "      <td>MensRights</td>\n",
       "      <td>You haven t searched the  sOUrCEs you so desperately want right Of course you didn t right</td>\n",
       "      <td>1616972703</td>\n",
       "      <td>91</td>\n",
       "      <td>17</td>\n",
       "      <td>-0.009524</td>\n",
       "      <td>0.690476</td>\n",
       "    </tr>\n",
       "    <tr>\n",
       "      <th>5</th>\n",
       "      <td>MensRights</td>\n",
       "      <td>Saying that someone s comments about sexism is invalid because of there skin colour very good YOU ARE RACIST</td>\n",
       "      <td>1616972617</td>\n",
       "      <td>108</td>\n",
       "      <td>19</td>\n",
       "      <td>0.910000</td>\n",
       "      <td>0.780000</td>\n",
       "    </tr>\n",
       "    <tr>\n",
       "      <th>6</th>\n",
       "      <td>MensRights</td>\n",
       "      <td>This seems like the nuclear option I can t imagine him getting his job back after going public like this and even if he did with that contract he won t keep it longer than   days I hope he s got a court case lined up</td>\n",
       "      <td>1616972597</td>\n",
       "      <td>217</td>\n",
       "      <td>46</td>\n",
       "      <td>0.000000</td>\n",
       "      <td>0.033333</td>\n",
       "    </tr>\n",
       "  </tbody>\n",
       "</table>\n",
       "</div>"
      ],
      "text/plain": [
       "    subreddit  \\\n",
       "1  MensRights   \n",
       "3  MensRights   \n",
       "4  MensRights   \n",
       "5  MensRights   \n",
       "6  MensRights   \n",
       "\n",
       "                                                                                                                                                                                                                                                                                                                   text  \\\n",
       "1  Also a point to consider is that campaign was created by an ad agency co founded by Charles Saatchi  The same guy who was cautioned by police a few years ago for putting his hands round the throat of his then wife Nigella Lawson while sat in public I ll not be taking lessons in behaviour from such a person    \n",
       "3                                                                                                                 It s not That same comparison gets made in every debate and thread related to this It won t make any impact other than to paint you as a racist in the eyes of the person you re making the point to    \n",
       "4                                                                                                                                                                                                                           You haven t searched the  sOUrCEs you so desperately want right Of course you didn t right    \n",
       "5                                                                                                                                                                                                          Saying that someone s comments about sexism is invalid because of there skin colour very good YOU ARE RACIST   \n",
       "6                                                                                             This seems like the nuclear option I can t imagine him getting his job back after going public like this and even if he did with that contract he won t keep it longer than   days I hope he s got a court case lined up    \n",
       "\n",
       "   created_utc  length  number_words  polarity  subjectivity  \n",
       "1   1616972828     308            60 -0.080000      0.238333  \n",
       "3   1616972806     197            42 -0.041667      0.300000  \n",
       "4   1616972703      91            17 -0.009524      0.690476  \n",
       "5   1616972617     108            19  0.910000      0.780000  \n",
       "6   1616972597     217            46  0.000000      0.033333  "
      ]
     },
     "execution_count": 32,
     "metadata": {},
     "output_type": "execute_result"
    }
   ],
   "source": [
    "def poles(text):\n",
    "    try:\n",
    "        return TextBlob(text).polarity\n",
    "    #gives you the negative and positive scores of the post\n",
    "    except:\n",
    "        return None\n",
    "def subj(text):\n",
    "    try:\n",
    "        return TextBlob(text).subjectivity\n",
    "    #gives you the subjectivity of the words or sentences or fragments \n",
    "    except:\n",
    "        return None\n",
    "\n",
    "comb['polarity'] = comb['text'].apply(poles)\n",
    "comb['subjectivity'] = comb['text'].apply(subj)\n",
    "#Add them in \n",
    "comb.head()"
   ]
  },
  {
   "cell_type": "code",
   "execution_count": 33,
   "metadata": {},
   "outputs": [],
   "source": [
    "comb.drop(columns=['subreddit','created_utc','text'],inplace=True)\n",
    "#get rid of what we do not need any more to increase the speed"
   ]
  },
  {
   "cell_type": "markdown",
   "metadata": {},
   "source": [
    "Lets visualize"
   ]
  },
  {
   "cell_type": "markdown",
   "metadata": {},
   "source": [
    "I cant compare words one dataset just has double the samples in this one\n",
    "\n",
    "what it precieves as negative and positive is extremely questionable\n",
    "Feminism: polarity:0.073568/ subjectivity:0.489847"
   ]
  },
  {
   "cell_type": "code",
   "execution_count": 34,
   "metadata": {},
   "outputs": [
    {
     "data": {
      "text/html": [
       "<div>\n",
       "<style scoped>\n",
       "    .dataframe tbody tr th:only-of-type {\n",
       "        vertical-align: middle;\n",
       "    }\n",
       "\n",
       "    .dataframe tbody tr th {\n",
       "        vertical-align: top;\n",
       "    }\n",
       "\n",
       "    .dataframe thead th {\n",
       "        text-align: right;\n",
       "    }\n",
       "</style>\n",
       "<table border=\"1\" class=\"dataframe\">\n",
       "  <thead>\n",
       "    <tr style=\"text-align: right;\">\n",
       "      <th></th>\n",
       "      <th>length</th>\n",
       "      <th>number_words</th>\n",
       "      <th>polarity</th>\n",
       "      <th>subjectivity</th>\n",
       "    </tr>\n",
       "  </thead>\n",
       "  <tbody>\n",
       "    <tr>\n",
       "      <th>count</th>\n",
       "      <td>4340.000000</td>\n",
       "      <td>4340.000000</td>\n",
       "      <td>4340.000000</td>\n",
       "      <td>4340.000000</td>\n",
       "    </tr>\n",
       "    <tr>\n",
       "      <th>mean</th>\n",
       "      <td>516.038249</td>\n",
       "      <td>96.979263</td>\n",
       "      <td>0.049682</td>\n",
       "      <td>0.463823</td>\n",
       "    </tr>\n",
       "    <tr>\n",
       "      <th>std</th>\n",
       "      <td>805.526552</td>\n",
       "      <td>150.960535</td>\n",
       "      <td>0.211133</td>\n",
       "      <td>0.219344</td>\n",
       "    </tr>\n",
       "    <tr>\n",
       "      <th>min</th>\n",
       "      <td>33.000000</td>\n",
       "      <td>11.000000</td>\n",
       "      <td>-1.000000</td>\n",
       "      <td>0.000000</td>\n",
       "    </tr>\n",
       "    <tr>\n",
       "      <th>25%</th>\n",
       "      <td>126.000000</td>\n",
       "      <td>24.000000</td>\n",
       "      <td>-0.040909</td>\n",
       "      <td>0.361015</td>\n",
       "    </tr>\n",
       "    <tr>\n",
       "      <th>50%</th>\n",
       "      <td>259.000000</td>\n",
       "      <td>49.000000</td>\n",
       "      <td>0.040000</td>\n",
       "      <td>0.475694</td>\n",
       "    </tr>\n",
       "    <tr>\n",
       "      <th>75%</th>\n",
       "      <td>551.000000</td>\n",
       "      <td>104.000000</td>\n",
       "      <td>0.152900</td>\n",
       "      <td>0.587500</td>\n",
       "    </tr>\n",
       "    <tr>\n",
       "      <th>max</th>\n",
       "      <td>9440.000000</td>\n",
       "      <td>1840.000000</td>\n",
       "      <td>1.000000</td>\n",
       "      <td>1.000000</td>\n",
       "    </tr>\n",
       "  </tbody>\n",
       "</table>\n",
       "</div>"
      ],
      "text/plain": [
       "            length  number_words     polarity  subjectivity\n",
       "count  4340.000000   4340.000000  4340.000000   4340.000000\n",
       "mean    516.038249     96.979263     0.049682      0.463823\n",
       "std     805.526552    150.960535     0.211133      0.219344\n",
       "min      33.000000     11.000000    -1.000000      0.000000\n",
       "25%     126.000000     24.000000    -0.040909      0.361015\n",
       "50%     259.000000     49.000000     0.040000      0.475694\n",
       "75%     551.000000    104.000000     0.152900      0.587500\n",
       "max    9440.000000   1840.000000     1.000000      1.000000"
      ]
     },
     "execution_count": 34,
     "metadata": {},
     "output_type": "execute_result"
    }
   ],
   "source": [
    "comb.describe()\n"
   ]
  },
  {
   "cell_type": "code",
   "execution_count": 35,
   "metadata": {},
   "outputs": [
    {
     "data": {
      "image/png": "[encoded data removed]",
      "text/plain": [
       "<Figure size 432x288 with 1 Axes>"
      ]
     },
     "metadata": {},
     "output_type": "display_data"
    }
   ],
   "source": [
    "comb.groupby('number_words').size().plot.hist();\n"
   ]
  },
  {
   "cell_type": "code",
   "execution_count": 36,
   "metadata": {},
   "outputs": [
    {
     "data": {
      "image/png": "[encoded data removed]",
      "text/plain": [
       "<Figure size 720x720 with 4 Axes>"
      ]
     },
     "metadata": {},
     "output_type": "display_data"
    }
   ],
   "source": [
    "comb.hist(figsize=(10,10));"
   ]
  },
  {
   "cell_type": "code",
   "execution_count": 37,
   "metadata": {},
   "outputs": [
    {
     "data": {
      "image/png": "[encoded data removed]",
      "text/plain": [
       "<Figure size 720x720 with 2 Axes>"
      ]
     },
     "metadata": {},
     "output_type": "display_data"
    }
   ],
   "source": [
    "plt.figure(figsize=(10, 10))\n",
    "plt.fontsize = 32\n",
    "sns.heatmap(comb.corr()[['number_words']].sort_values('number_words', ascending=False), \n",
    "            annot=True, cmap='Spectral', vmax=1);\n",
    "# the length of words and number of words is not going to really give us insight into the data. \n",
    "# We are not interested in the education of the users bc our goal is to gain insight into how we can get \n",
    "# This does not make me want to compare them.\n"
   ]
  },
  {
   "cell_type": "code",
   "execution_count": 38,
   "metadata": {},
   "outputs": [
    {
     "data": {
      "text/plain": [
       "Text(0.5, 1.0, \"polarity's relationship to subjectivity in Men's\")"
      ]
     },
     "execution_count": 38,
     "metadata": {},
     "output_type": "execute_result"
    },
    {
     "data": {
      "image/png": "[encoded data removed]",
      "text/plain": [
       "<Figure size 504x504 with 1 Axes>"
      ]
     },
     "metadata": {},
     "output_type": "display_data"
    }
   ],
   "source": [
    "plt.figure(figsize=(7,7));\n",
    "plt.scatter(x=comb['polarity'], y=comb['subjectivity']);\n",
    "plt.axvline(-.3, color='r', linestyle='-',label='');\n",
    "plt.axvline(.3, color='r', linestyle='-',label='');\n",
    "plt.title(\"polarity's relationship to subjectivity in Men's\", fontsize=20)\n",
    "#The relationship between both meterics are really the same in each"
   ]
  },
  {
   "cell_type": "code",
   "execution_count": 39,
   "metadata": {},
   "outputs": [
    {
     "data": {
      "image/png": "[encoded data removed]",
      "text/plain": [
       "<Figure size 1008x576 with 1 Axes>"
      ]
     },
     "metadata": {},
     "output_type": "display_data"
    }
   ],
   "source": [
    "pole=comb[['polarity']]\n",
    "plt.figure(figsize=(14,8));\n",
    "sns.violinplot(data=pole, palette=\"coolwarm\", inner=\"points\", orient=\"h\");\n",
    "plt.title('The distribution of polarity in MensRights', fontsize=20);"
   ]
  },
  {
   "cell_type": "code",
   "execution_count": 40,
   "metadata": {},
   "outputs": [
    {
     "data": {
      "image/png": "[encoded data removed]",
      "text/plain": [
       "<Figure size 1008x576 with 1 Axes>"
      ]
     },
     "metadata": {},
     "output_type": "display_data"
    }
   ],
   "source": [
    "subj=comb[['subjectivity']]\n",
    "plt.figure(figsize=(14,8));\n",
    "sns.violinplot(data=subj, palette=\"Spectral\", inner=\"points\", orient=\"h\");\n",
    "plt.title('The distribution of subjectivity in MensRights', fontsize=20);"
   ]
  },
  {
   "cell_type": "code",
   "execution_count": null,
   "metadata": {},
   "outputs": [],
   "source": []
  },
  {
   "cell_type": "code",
   "execution_count": null,
   "metadata": {},
   "outputs": [],
   "source": []
  },
  {
   "cell_type": "code",
   "execution_count": null,
   "metadata": {},
   "outputs": [],
   "source": []
  }
 ],
 "metadata": {
  "kernelspec": {
   "display_name": "Python 3",
   "language": "python",
   "name": "python3"
  },
  "language_info": {
   "codemirror_mode": {
    "name": "ipython",
    "version": 3
   },
   "file_extension": ".py",
   "mimetype": "text/x-python",
   "name": "python",
   "nbconvert_exporter": "python",
   "pygments_lexer": "ipython3",
   "version": "3.8.5"
  }
 },
 "nbformat": 4,
 "nbformat_minor": 4
}
