{
 "cells": [
  {
   "cell_type": "markdown",
   "metadata": {},
   "source": [
    "# API \"Dialer\" and payload to file"
   ]
  },
  {
   "cell_type": "markdown",
   "metadata": {},
   "source": [
    "Connecting to the API "
   ]
  },
  {
   "cell_type": "code",
   "execution_count": 3,
   "metadata": {},
   "outputs": [],
   "source": [
    "import requests\n",
    "import time\n",
    "import pandas as pd\n",
    "import numpy as np\n",
    "url='https://api.pushshift.io/reddit/search/comment'\n",
    "#url='https://api.pushshift.io/reddit/search/submissions'\n",
    "#swithc urls between comments and submissions when needed"
   ]
  },
  {
   "cell_type": "markdown",
   "metadata": {},
   "source": [
    "Hello Pushshift.io dont ban me...I need some posts"
   ]
  },
  {
   "cell_type": "code",
   "execution_count": 4,
   "metadata": {},
   "outputs": [
    {
     "data": {
      "text/plain": [
       "(200, 37)"
      ]
     },
     "execution_count": 4,
     "metadata": {},
     "output_type": "execute_result"
    }
   ],
   "source": [
    "#Created this code with the help of Derya,Umair and Tim\n",
    "before = 1615693348\n",
    "#The UTC time stamp has to change to start at that particular point where it left off\n",
    "df = pd.DataFrame()\n",
    "total_df_lpt = pd.DataFrame()\n",
    "for i in range(2):\n",
    "    params_lpt = {\n",
    "    'subreddit': 'AskFeminists',\n",
    "    #change this when you want to do the other subreddits\n",
    "    'size': 100,\n",
    "    'before':before}\n",
    "    #params set \n",
    "    res_lpt = requests.get(url, params_lpt)\n",
    "    #connects to the url set in cell one\n",
    "    data_lpt = res_lpt.json()\n",
    "    #get your json response from the api call\n",
    "    posts_lpt = data_lpt['data']\n",
    "    #grab your payload\n",
    "    df = pd.DataFrame(posts_lpt)\n",
    "    #turn into a dataframe\n",
    "    total_df_lpt = pd.concat([df,total_df_lpt], axis=0, ignore_index=True)\n",
    "    #put it all together with concat\n",
    "    before = df['created_utc'].min()\n",
    "    #tells request where to start\n",
    "    time.sleep(5)\n",
    "    #After 55 minutes it calls it quits\n",
    "total_df_lpt.shape\n",
    "#let me know what we have\n",
    "\n"
   ]
  },
  {
   "cell_type": "code",
   "execution_count": 5,
   "metadata": {},
   "outputs": [
    {
     "data": {
      "text/plain": [
       "Index(['all_awardings', 'associated_award', 'author',\n",
       "       'author_flair_background_color', 'author_flair_css_class',\n",
       "       'author_flair_template_id', 'author_flair_text',\n",
       "       'author_flair_text_color', 'awarders', 'body',\n",
       "       'collapsed_because_crowd_control', 'comment_type', 'created_utc',\n",
       "       'gildings', 'id', 'is_submitter', 'link_id', 'locked', 'no_follow',\n",
       "       'parent_id', 'permalink', 'retrieved_on', 'score', 'send_replies',\n",
       "       'stickied', 'subreddit', 'subreddit_id', 'top_awarded_type',\n",
       "       'total_awards_received', 'treatment_tags', 'author_flair_richtext',\n",
       "       'author_flair_type', 'author_fullname', 'author_patreon_flair',\n",
       "       'author_premium', 'distinguished', 'author_cakeday'],\n",
       "      dtype='object')"
      ]
     },
     "execution_count": 5,
     "metadata": {},
     "output_type": "execute_result"
    }
   ],
   "source": [
    "total_df_lpt.columns\n",
    "#check the columns because sometimes I am stupid and don't know if it is a submission or comment"
   ]
  },
  {
   "cell_type": "markdown",
   "metadata": {},
   "source": [
    "Turn payload to API"
   ]
  },
  {
   "cell_type": "code",
   "execution_count": 6,
   "metadata": {},
   "outputs": [
    {
     "data": {
      "text/html": [
       "<div>\n",
       "<style scoped>\n",
       "    .dataframe tbody tr th:only-of-type {\n",
       "        vertical-align: middle;\n",
       "    }\n",
       "\n",
       "    .dataframe tbody tr th {\n",
       "        vertical-align: top;\n",
       "    }\n",
       "\n",
       "    .dataframe thead th {\n",
       "        text-align: right;\n",
       "    }\n",
       "</style>\n",
       "<table border=\"1\" class=\"dataframe\">\n",
       "  <thead>\n",
       "    <tr style=\"text-align: right;\">\n",
       "      <th></th>\n",
       "      <th>subreddit</th>\n",
       "      <th>body</th>\n",
       "      <th>created_utc</th>\n",
       "    </tr>\n",
       "  </thead>\n",
       "  <tbody>\n",
       "    <tr>\n",
       "      <th>190</th>\n",
       "      <td>AskFeminists</td>\n",
       "      <td>You have the right to do that. \\n\\nAs OP's fri...</td>\n",
       "      <td>1615686711</td>\n",
       "    </tr>\n",
       "    <tr>\n",
       "      <th>191</th>\n",
       "      <td>AskFeminists</td>\n",
       "      <td>In particular, when a heterosexual person beli...</td>\n",
       "      <td>1615686584</td>\n",
       "    </tr>\n",
       "    <tr>\n",
       "      <th>192</th>\n",
       "      <td>AskFeminists</td>\n",
       "      <td>Is delivery sexual?</td>\n",
       "      <td>1615686414</td>\n",
       "    </tr>\n",
       "    <tr>\n",
       "      <th>193</th>\n",
       "      <td>AskFeminists</td>\n",
       "      <td>[removed]</td>\n",
       "      <td>1615686405</td>\n",
       "    </tr>\n",
       "    <tr>\n",
       "      <th>194</th>\n",
       "      <td>AskFeminists</td>\n",
       "      <td>Yuuup. The right love to co-opt useful concept...</td>\n",
       "      <td>1615686306</td>\n",
       "    </tr>\n",
       "    <tr>\n",
       "      <th>195</th>\n",
       "      <td>AskFeminists</td>\n",
       "      <td>I think the key thing here is that \"safety\" is...</td>\n",
       "      <td>1615686304</td>\n",
       "    </tr>\n",
       "    <tr>\n",
       "      <th>196</th>\n",
       "      <td>AskFeminists</td>\n",
       "      <td>Damn after reading this I think women should h...</td>\n",
       "      <td>1615686126</td>\n",
       "    </tr>\n",
       "    <tr>\n",
       "      <th>197</th>\n",
       "      <td>AskFeminists</td>\n",
       "      <td>We are socialized to respond how we are treate...</td>\n",
       "      <td>1615685911</td>\n",
       "    </tr>\n",
       "    <tr>\n",
       "      <th>198</th>\n",
       "      <td>AskFeminists</td>\n",
       "      <td>[removed]</td>\n",
       "      <td>1615685903</td>\n",
       "    </tr>\n",
       "    <tr>\n",
       "      <th>199</th>\n",
       "      <td>AskFeminists</td>\n",
       "      <td>The part of you pointed sums perfectly the dif...</td>\n",
       "      <td>1615685807</td>\n",
       "    </tr>\n",
       "  </tbody>\n",
       "</table>\n",
       "</div>"
      ],
      "text/plain": [
       "        subreddit                                               body  \\\n",
       "190  AskFeminists  You have the right to do that. \\n\\nAs OP's fri...   \n",
       "191  AskFeminists  In particular, when a heterosexual person beli...   \n",
       "192  AskFeminists                                Is delivery sexual?   \n",
       "193  AskFeminists                                          [removed]   \n",
       "194  AskFeminists  Yuuup. The right love to co-opt useful concept...   \n",
       "195  AskFeminists  I think the key thing here is that \"safety\" is...   \n",
       "196  AskFeminists  Damn after reading this I think women should h...   \n",
       "197  AskFeminists  We are socialized to respond how we are treate...   \n",
       "198  AskFeminists                                          [removed]   \n",
       "199  AskFeminists  The part of you pointed sums perfectly the dif...   \n",
       "\n",
       "     created_utc  \n",
       "190   1615686711  \n",
       "191   1615686584  \n",
       "192   1615686414  \n",
       "193   1615686405  \n",
       "194   1615686306  \n",
       "195   1615686304  \n",
       "196   1615686126  \n",
       "197   1615685911  \n",
       "198   1615685903  \n",
       "199   1615685807  "
      ]
     },
     "execution_count": 6,
     "metadata": {},
     "output_type": "execute_result"
    }
   ],
   "source": [
    "#create your df but remember for comments use 'body' and for sumbissions use 'selftext'\n",
    "new=total_df_lpt[['subreddit','body','created_utc']]\n",
    "new.tail(10)\n",
    "#get the last so you can grab the last utc_create"
   ]
  },
  {
   "cell_type": "markdown",
   "metadata": {},
   "source": [
    "Export to designated folder"
   ]
  },
  {
   "cell_type": "code",
   "execution_count": 8,
   "metadata": {},
   "outputs": [],
   "source": [
    "new.to_csv('./data/women/test13.csv',index=False)\n",
    "#save the file to where it needs to go and yes now after the first batch add index to False lol"
   ]
  },
  {
   "cell_type": "code",
   "execution_count": null,
   "metadata": {},
   "outputs": [],
   "source": []
  },
  {
   "cell_type": "code",
   "execution_count": null,
   "metadata": {},
   "outputs": [],
   "source": []
  }
 ],
 "metadata": {
  "kernelspec": {
   "display_name": "Python 3",
   "language": "python",
   "name": "python3"
  },
  "language_info": {
   "codemirror_mode": {
    "name": "ipython",
    "version": 3
   },
   "file_extension": ".py",
   "mimetype": "text/x-python",
   "name": "python",
   "nbconvert_exporter": "python",
   "pygments_lexer": "ipython3",
   "version": "3.8.5"
  }
 },
 "nbformat": 4,
 "nbformat_minor": 4
}
