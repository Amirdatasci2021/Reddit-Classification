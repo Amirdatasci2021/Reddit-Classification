{
 "cells": [
  {
   "cell_type": "code",
   "execution_count": 1,
   "metadata": {},
   "outputs": [],
   "source": [
    "import requests\n",
    "import time\n",
    "import pandas as pd\n",
    "import numpy as np\n",
    "url='https://api.pushshift.io/reddit/search/comment'\n",
    "\n"
   ]
  },
  {
   "cell_type": "code",
   "execution_count": 2,
   "metadata": {},
   "outputs": [
    {
     "data": {
      "text/plain": [
       "(2000, 37)"
      ]
     },
     "execution_count": 2,
     "metadata": {},
     "output_type": "execute_result"
    }
   ],
   "source": [
    "#Created this code with the help of Derya\n",
    "#Change before to the current time in order to get this to work on up to date data\n",
    "before = 1615693348\n",
    "df = pd.DataFrame()\n",
    "total_df_lpt = pd.DataFrame()\n",
    "# post_list = {}\n",
    "for i in range(20):\n",
    "    params_lpt = {\n",
    "    'subreddit': 'AskFeminists',\n",
    "    'size': 100,\n",
    "    'before':before}\n",
    "    res_lpt = requests.get(url, params_lpt)\n",
    "    data_lpt = res_lpt.json()\n",
    "    posts_lpt = data_lpt['data']\n",
    "    df = pd.DataFrame(posts_lpt)\n",
    "    total_df_lpt = pd.concat([df,total_df_lpt], axis=0, ignore_index=True)\n",
    "    before = df['created_utc'].min()\n",
    "    time.sleep(59)\n",
    "total_df_lpt.shape\n",
    "\n",
    "\n"
   ]
  },
  {
   "cell_type": "code",
   "execution_count": 3,
   "metadata": {},
   "outputs": [
    {
     "data": {
      "text/plain": [
       "Index(['all_awardings', 'associated_award', 'author',\n",
       "       'author_flair_background_color', 'author_flair_css_class',\n",
       "       'author_flair_richtext', 'author_flair_template_id',\n",
       "       'author_flair_text', 'author_flair_text_color', 'author_flair_type',\n",
       "       'author_fullname', 'author_patreon_flair', 'author_premium', 'awarders',\n",
       "       'body', 'collapsed_because_crowd_control', 'comment_type',\n",
       "       'created_utc', 'gildings', 'id', 'is_submitter', 'link_id', 'locked',\n",
       "       'no_follow', 'parent_id', 'permalink', 'retrieved_on', 'score',\n",
       "       'send_replies', 'stickied', 'subreddit', 'subreddit_id',\n",
       "       'top_awarded_type', 'total_awards_received', 'treatment_tags',\n",
       "       'distinguished', 'author_cakeday'],\n",
       "      dtype='object')"
      ]
     },
     "execution_count": 3,
     "metadata": {},
     "output_type": "execute_result"
    }
   ],
   "source": [
    "total_df_lpt.columns"
   ]
  },
  {
   "cell_type": "code",
   "execution_count": 4,
   "metadata": {},
   "outputs": [
    {
     "data": {
      "text/html": [
       "<div>\n",
       "<style scoped>\n",
       "    .dataframe tbody tr th:only-of-type {\n",
       "        vertical-align: middle;\n",
       "    }\n",
       "\n",
       "    .dataframe tbody tr th {\n",
       "        vertical-align: top;\n",
       "    }\n",
       "\n",
       "    .dataframe thead th {\n",
       "        text-align: right;\n",
       "    }\n",
       "</style>\n",
       "<table border=\"1\" class=\"dataframe\">\n",
       "  <thead>\n",
       "    <tr style=\"text-align: right;\">\n",
       "      <th></th>\n",
       "      <th>subreddit</th>\n",
       "      <th>body</th>\n",
       "      <th>created_utc</th>\n",
       "    </tr>\n",
       "  </thead>\n",
       "  <tbody>\n",
       "    <tr>\n",
       "      <th>1990</th>\n",
       "      <td>AskFeminists</td>\n",
       "      <td>You have the right to do that. \\n\\nAs OP's fri...</td>\n",
       "      <td>1615686711</td>\n",
       "    </tr>\n",
       "    <tr>\n",
       "      <th>1991</th>\n",
       "      <td>AskFeminists</td>\n",
       "      <td>In particular, when a heterosexual person beli...</td>\n",
       "      <td>1615686584</td>\n",
       "    </tr>\n",
       "    <tr>\n",
       "      <th>1992</th>\n",
       "      <td>AskFeminists</td>\n",
       "      <td>Is delivery sexual?</td>\n",
       "      <td>1615686414</td>\n",
       "    </tr>\n",
       "    <tr>\n",
       "      <th>1993</th>\n",
       "      <td>AskFeminists</td>\n",
       "      <td>[removed]</td>\n",
       "      <td>1615686405</td>\n",
       "    </tr>\n",
       "    <tr>\n",
       "      <th>1994</th>\n",
       "      <td>AskFeminists</td>\n",
       "      <td>Yuuup. The right love to co-opt useful concept...</td>\n",
       "      <td>1615686306</td>\n",
       "    </tr>\n",
       "    <tr>\n",
       "      <th>1995</th>\n",
       "      <td>AskFeminists</td>\n",
       "      <td>I think the key thing here is that \"safety\" is...</td>\n",
       "      <td>1615686304</td>\n",
       "    </tr>\n",
       "    <tr>\n",
       "      <th>1996</th>\n",
       "      <td>AskFeminists</td>\n",
       "      <td>Damn after reading this I think women should h...</td>\n",
       "      <td>1615686126</td>\n",
       "    </tr>\n",
       "    <tr>\n",
       "      <th>1997</th>\n",
       "      <td>AskFeminists</td>\n",
       "      <td>We are socialized to respond how we are treate...</td>\n",
       "      <td>1615685911</td>\n",
       "    </tr>\n",
       "    <tr>\n",
       "      <th>1998</th>\n",
       "      <td>AskFeminists</td>\n",
       "      <td>[removed]</td>\n",
       "      <td>1615685903</td>\n",
       "    </tr>\n",
       "    <tr>\n",
       "      <th>1999</th>\n",
       "      <td>AskFeminists</td>\n",
       "      <td>The part of you pointed sums perfectly the dif...</td>\n",
       "      <td>1615685807</td>\n",
       "    </tr>\n",
       "  </tbody>\n",
       "</table>\n",
       "</div>"
      ],
      "text/plain": [
       "         subreddit                                               body  \\\n",
       "1990  AskFeminists  You have the right to do that. \\n\\nAs OP's fri...   \n",
       "1991  AskFeminists  In particular, when a heterosexual person beli...   \n",
       "1992  AskFeminists                                Is delivery sexual?   \n",
       "1993  AskFeminists                                          [removed]   \n",
       "1994  AskFeminists  Yuuup. The right love to co-opt useful concept...   \n",
       "1995  AskFeminists  I think the key thing here is that \"safety\" is...   \n",
       "1996  AskFeminists  Damn after reading this I think women should h...   \n",
       "1997  AskFeminists  We are socialized to respond how we are treate...   \n",
       "1998  AskFeminists                                          [removed]   \n",
       "1999  AskFeminists  The part of you pointed sums perfectly the dif...   \n",
       "\n",
       "      created_utc  \n",
       "1990   1615686711  \n",
       "1991   1615686584  \n",
       "1992   1615686414  \n",
       "1993   1615686405  \n",
       "1994   1615686306  \n",
       "1995   1615686304  \n",
       "1996   1615686126  \n",
       "1997   1615685911  \n",
       "1998   1615685903  \n",
       "1999   1615685807  "
      ]
     },
     "execution_count": 4,
     "metadata": {},
     "output_type": "execute_result"
    }
   ],
   "source": [
    "new=total_df_lpt[['subreddit','body','created_utc']]\n",
    "new.tail(10)"
   ]
  },
  {
   "cell_type": "code",
   "execution_count": 5,
   "metadata": {},
   "outputs": [],
   "source": [
    "new.to_csv('./data/women/test13.csv',index=False)"
   ]
  },
  {
   "cell_type": "code",
   "execution_count": null,
   "metadata": {},
   "outputs": [],
   "source": []
  },
  {
   "cell_type": "code",
   "execution_count": null,
   "metadata": {},
   "outputs": [],
   "source": []
  }
 ],
 "metadata": {
  "kernelspec": {
   "display_name": "Python 3",
   "language": "python",
   "name": "python3"
  },
  "language_info": {
   "codemirror_mode": {
    "name": "ipython",
    "version": 3
   },
   "file_extension": ".py",
   "mimetype": "text/x-python",
   "name": "python",
   "nbconvert_exporter": "python",
   "pygments_lexer": "ipython3",
   "version": "3.8.5"
  }
 },
 "nbformat": 4,
 "nbformat_minor": 4
}
