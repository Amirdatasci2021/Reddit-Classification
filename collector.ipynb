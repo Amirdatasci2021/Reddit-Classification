{
 "cells": [
  {
   "cell_type": "markdown",
   "metadata": {},
   "source": [
    "# API \"Dialer\" and payload to file"
   ]
  },
  {
   "cell_type": "markdown",
   "metadata": {},
   "source": [
    "Connecting to the API "
   ]
  },
  {
   "cell_type": "code",
   "execution_count": 1,
   "metadata": {},
   "outputs": [],
   "source": [
    "import requests\n",
    "import time\n",
    "import pandas as pd\n",
    "import numpy as np\n",
    "url='https://api.pushshift.io/reddit/search/comment'\n",
    "#url='https://api.pushshift.io/reddit/search/submissions'\n",
    "#swithc urls between comments and submissions when needed"
   ]
  },
  {
   "cell_type": "markdown",
   "metadata": {},
   "source": [
    "Hello Pushshift.io dont ban me...I need some posts"
   ]
  },
  {
   "cell_type": "code",
   "execution_count": 2,
   "metadata": {},
   "outputs": [
    {
     "ename": "NameError",
     "evalue": "name 'requests' is not defined",
     "output_type": "error",
     "traceback": [
      "\u001b[1;31m---------------------------------------------------------------------------\u001b[0m",
      "\u001b[1;31mNameError\u001b[0m                                 Traceback (most recent call last)",
      "\u001b[1;32m<ipython-input-2-4ab7d9037f4e>\u001b[0m in \u001b[0;36m<module>\u001b[1;34m\u001b[0m\n\u001b[0;32m     11\u001b[0m     'before':before}\n\u001b[0;32m     12\u001b[0m     \u001b[1;31m#params set\u001b[0m\u001b[1;33m\u001b[0m\u001b[1;33m\u001b[0m\u001b[1;33m\u001b[0m\u001b[0m\n\u001b[1;32m---> 13\u001b[1;33m     \u001b[0mres_lpt\u001b[0m \u001b[1;33m=\u001b[0m \u001b[0mrequests\u001b[0m\u001b[1;33m.\u001b[0m\u001b[0mget\u001b[0m\u001b[1;33m(\u001b[0m\u001b[0murl\u001b[0m\u001b[1;33m,\u001b[0m \u001b[0mparams_lpt\u001b[0m\u001b[1;33m)\u001b[0m\u001b[1;33m\u001b[0m\u001b[1;33m\u001b[0m\u001b[0m\n\u001b[0m\u001b[0;32m     14\u001b[0m     \u001b[1;31m#connects to the url set in cell one\u001b[0m\u001b[1;33m\u001b[0m\u001b[1;33m\u001b[0m\u001b[1;33m\u001b[0m\u001b[0m\n\u001b[0;32m     15\u001b[0m     \u001b[0mdata_lpt\u001b[0m \u001b[1;33m=\u001b[0m \u001b[0mres_lpt\u001b[0m\u001b[1;33m.\u001b[0m\u001b[0mjson\u001b[0m\u001b[1;33m(\u001b[0m\u001b[1;33m)\u001b[0m\u001b[1;33m\u001b[0m\u001b[1;33m\u001b[0m\u001b[0m\n",
      "\u001b[1;31mNameError\u001b[0m: name 'requests' is not defined"
     ]
    }
   ],
   "source": [
    "#Created this code with the help of Derya,Umair and Tim\n",
    "before = 1615693348\n",
    "#The UTC time stamp has to change to start at that particular point where it left off\n",
    "df = pd.DataFrame()\n",
    "total_df_lpt = pd.DataFrame()\n",
    "for i in range(20):\n",
    "    params_lpt = {\n",
    "    'subreddit': 'AskFeminists',\n",
    "    #change this when you want to do the other subreddits\n",
    "    'size': 100,\n",
    "    'before':before}\n",
    "    #params set \n",
    "    res_lpt = requests.get(url, params_lpt)\n",
    "    #connects to the url set in cell one\n",
    "    data_lpt = res_lpt.json()\n",
    "    #get your json response from the api call\n",
    "    posts_lpt = data_lpt['data']\n",
    "    #grab your payload\n",
    "    df = pd.DataFrame(posts_lpt)\n",
    "    #turn into a dataframe\n",
    "    total_df_lpt = pd.concat([df,total_df_lpt], axis=0, ignore_index=True)\n",
    "    #put it all together with concat\n",
    "    before = df['created_utc'].min()\n",
    "    #tells request where to start\n",
    "    time.sleep(55)\n",
    "    #After 55 minutes it calls it quits\n",
    "total_df_lpt.shape\n",
    "#let me know what we have\n",
    "\n"
   ]
  },
  {
   "cell_type": "code",
   "execution_count": null,
   "metadata": {},
   "outputs": [],
   "source": [
    "total_df_lpt.columns\n",
    "#check the columns because sometimes I am stupid and don't know if it is a submission or comment"
   ]
  },
  {
   "cell_type": "markdown",
   "metadata": {},
   "source": [
    "Turn payload to API"
   ]
  },
  {
   "cell_type": "code",
   "execution_count": null,
   "metadata": {},
   "outputs": [],
   "source": [
    "#create your df but remember for comments use 'body' and for sumbissions use 'selftext'\n",
    "new=total_df_lpt[['subreddit','body','created_utc']]\n",
    "new.tail(10)\n",
    "#get the last so you can grab the last utc_create"
   ]
  },
  {
   "cell_type": "code",
   "execution_count": null,
   "metadata": {},
   "outputs": [],
   "source": [
    "Export to designated folder"
   ]
  },
  {
   "cell_type": "code",
   "execution_count": null,
   "metadata": {},
   "outputs": [],
   "source": [
    "new.to_csv('./data/women/test13.csv',index=False)\n",
    "#save the file to where it needs to go and yes now after the first batch add index to False lol"
   ]
  },
  {
   "cell_type": "code",
   "execution_count": null,
   "metadata": {},
   "outputs": [],
   "source": []
  },
  {
   "cell_type": "code",
   "execution_count": null,
   "metadata": {},
   "outputs": [],
   "source": []
  }
 ],
 "metadata": {
  "kernelspec": {
   "display_name": "Python 3",
   "language": "python",
   "name": "python3"
  },
  "language_info": {
   "codemirror_mode": {
    "name": "ipython",
    "version": 3
   },
   "file_extension": ".py",
   "mimetype": "text/x-python",
   "name": "python",
   "nbconvert_exporter": "python",
   "pygments_lexer": "ipython3",
   "version": "3.8.5"
  }
 },
 "nbformat": 4,
 "nbformat_minor": 4
}
