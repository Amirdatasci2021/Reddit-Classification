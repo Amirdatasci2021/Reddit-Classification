{
 "cells": [
  {
   "cell_type": "markdown",
   "metadata": {},
   "source": [
    "## Logistic Regression Model with TfidfVectorizer with stopwords for predicting r/mensrights"
   ]
  },
  {
   "cell_type": "markdown",
   "metadata": {},
   "source": [
    "Import the libraries "
   ]
  },
  {
   "cell_type": "code",
   "execution_count": 1,
   "metadata": {},
   "outputs": [],
   "source": [
    "import pandas as pd\n",
    "import numpy as np\n",
    "import seaborn as sns\n",
    "import matplotlib.pyplot as plt\n",
    "\n",
    "from sklearn.preprocessing import LabelEncoder\n",
    "\n",
    "from sklearn import model_selection, naive_bayes, svm\n",
    "from sklearn.metrics import accuracy_score\n",
    "from sklearn.utils import shuffle\n",
    "from sklearn.svm import SVC\n",
    "from sklearn.metrics import accuracy_score\n",
    "from sklearn.preprocessing import StandardScaler\n",
    "from sklearn.preprocessing import StandardScaler\n",
    "from sklearn.model_selection import GridSearchCV, train_test_split\n",
    "from sklearn.linear_model import LogisticRegression\n",
    "\n",
    "\n",
    "from sklearn.model_selection import KFold\n",
    "from sklearn import svm, datasets\n",
    "from sklearn.metrics import f1_score, precision_score, recall_score, classification_report, confusion_matrix, ConfusionMatrixDisplay"
   ]
  },
  {
   "cell_type": "markdown",
   "metadata": {},
   "source": [
    "Open the files"
   ]
  },
  {
   "cell_type": "code",
   "execution_count": 2,
   "metadata": {},
   "outputs": [],
   "source": [
    "fem=pd.read_csv('./data/z_complete/fem.csv')\n",
    "man=pd.read_csv('./data/z_complete/men.csv')\n",
    "#the two files have an identitical structure just concat them without much fussbecause the work was done upstream"
   ]
  },
  {
   "cell_type": "code",
   "execution_count": 3,
   "metadata": {},
   "outputs": [
    {
     "data": {
      "text/plain": [
       "(12890, 3)"
      ]
     },
     "execution_count": 3,
     "metadata": {},
     "output_type": "execute_result"
    }
   ],
   "source": [
    "df=pd.concat([fem,man])\n",
    "df.shape"
   ]
  },
  {
   "cell_type": "code",
   "execution_count": 4,
   "metadata": {},
   "outputs": [
    {
     "data": {
      "text/html": [
       "<div>\n",
       "<style scoped>\n",
       "    .dataframe tbody tr th:only-of-type {\n",
       "        vertical-align: middle;\n",
       "    }\n",
       "\n",
       "    .dataframe tbody tr th {\n",
       "        vertical-align: top;\n",
       "    }\n",
       "\n",
       "    .dataframe thead th {\n",
       "        text-align: right;\n",
       "    }\n",
       "</style>\n",
       "<table border=\"1\" class=\"dataframe\">\n",
       "  <thead>\n",
       "    <tr style=\"text-align: right;\">\n",
       "      <th></th>\n",
       "      <th>subreddit</th>\n",
       "      <th>created_utc</th>\n",
       "      <th>text</th>\n",
       "    </tr>\n",
       "  </thead>\n",
       "  <tbody>\n",
       "    <tr>\n",
       "      <th>338</th>\n",
       "      <td>MensRights</td>\n",
       "      <td>1615596063</td>\n",
       "      <td>Today I decided as one of the complaints of us...</td>\n",
       "    </tr>\n",
       "    <tr>\n",
       "      <th>4375</th>\n",
       "      <td>Feminism</td>\n",
       "      <td>1615560165</td>\n",
       "      <td>Forcing you to go work in a machine shop when ...</td>\n",
       "    </tr>\n",
       "    <tr>\n",
       "      <th>4513</th>\n",
       "      <td>Feminism</td>\n",
       "      <td>1615580908</td>\n",
       "      <td>Those men are sexists Women get better car ins...</td>\n",
       "    </tr>\n",
       "    <tr>\n",
       "      <th>2832</th>\n",
       "      <td>MensRights</td>\n",
       "      <td>1616886857</td>\n",
       "      <td>It should be a felony charge with an equally h...</td>\n",
       "    </tr>\n",
       "    <tr>\n",
       "      <th>2269</th>\n",
       "      <td>Feminism</td>\n",
       "      <td>1615967649</td>\n",
       "      <td>It s called  hetero patriarchy  The vast major...</td>\n",
       "    </tr>\n",
       "  </tbody>\n",
       "</table>\n",
       "</div>"
      ],
      "text/plain": [
       "       subreddit  created_utc  \\\n",
       "338   MensRights   1615596063   \n",
       "4375    Feminism   1615560165   \n",
       "4513    Feminism   1615580908   \n",
       "2832  MensRights   1616886857   \n",
       "2269    Feminism   1615967649   \n",
       "\n",
       "                                                   text  \n",
       "338   Today I decided as one of the complaints of us...  \n",
       "4375  Forcing you to go work in a machine shop when ...  \n",
       "4513  Those men are sexists Women get better car ins...  \n",
       "2832  It should be a felony charge with an equally h...  \n",
       "2269  It s called  hetero patriarchy  The vast major...  "
      ]
     },
     "execution_count": 4,
     "metadata": {},
     "output_type": "execute_result"
    }
   ],
   "source": [
    "df = shuffle(df)\n",
    "df.head(5)\n",
    "#df=df.sample(frac = 0.01)\n",
    "#Mix the data together because in the early stages I was just using partial bits to get results. SVM takes a very very long time"
   ]
  },
  {
   "cell_type": "markdown",
   "metadata": {},
   "source": [
    "Modeling"
   ]
  },
  {
   "cell_type": "code",
   "execution_count": 5,
   "metadata": {},
   "outputs": [],
   "source": [
    "df['subreddit'] = np.where(df['subreddit'] == 'MensRights', 1, 0)\n",
    "# We will be finding r/MensRights , we need to bianarize the columns "
   ]
  },
  {
   "cell_type": "code",
   "execution_count": 6,
   "metadata": {},
   "outputs": [],
   "source": [
    "df.drop(columns='created_utc', inplace=True)\n",
    "#We do not need the time aspect here at all because that was not ever used"
   ]
  },
  {
   "cell_type": "code",
   "execution_count": 7,
   "metadata": {},
   "outputs": [],
   "source": [
    "from sklearn.feature_extraction import text\n",
    "extra_stop_words=['just','like','don','people','think','know','want','gt','say','make','really','good','right','said','ve','time','need','way','doesn','did','post','life','rights','point','things','view','actually','yes','poll','didn','ll','feel','day','mean']\n",
    "stop_words = text.ENGLISH_STOP_WORDS.union(extra_stop_words)"
   ]
  },
  {
   "cell_type": "code",
   "execution_count": 8,
   "metadata": {},
   "outputs": [
    {
     "data": {
      "text/html": [
       "<div>\n",
       "<style scoped>\n",
       "    .dataframe tbody tr th:only-of-type {\n",
       "        vertical-align: middle;\n",
       "    }\n",
       "\n",
       "    .dataframe tbody tr th {\n",
       "        vertical-align: top;\n",
       "    }\n",
       "\n",
       "    .dataframe thead th {\n",
       "        text-align: right;\n",
       "    }\n",
       "</style>\n",
       "<table border=\"1\" class=\"dataframe\">\n",
       "  <thead>\n",
       "    <tr style=\"text-align: right;\">\n",
       "      <th></th>\n",
       "      <th>aacknowledged</th>\n",
       "      <th>aback</th>\n",
       "      <th>abandon</th>\n",
       "      <th>abandoned</th>\n",
       "      <th>abandoning</th>\n",
       "      <th>abbreviation</th>\n",
       "      <th>abby</th>\n",
       "      <th>abc</th>\n",
       "      <th>abdicating</th>\n",
       "      <th>abdication</th>\n",
       "      <th>...</th>\n",
       "      <th>zombies</th>\n",
       "      <th>zone</th>\n",
       "      <th>zoned</th>\n",
       "      <th>zones</th>\n",
       "      <th>zoning</th>\n",
       "      <th>zoo</th>\n",
       "      <th>zoologist</th>\n",
       "      <th>zoom</th>\n",
       "      <th>zora</th>\n",
       "      <th>zygomatic</th>\n",
       "    </tr>\n",
       "  </thead>\n",
       "  <tbody>\n",
       "    <tr>\n",
       "      <th>0</th>\n",
       "      <td>0.0</td>\n",
       "      <td>0.0</td>\n",
       "      <td>0.0</td>\n",
       "      <td>0.0</td>\n",
       "      <td>0.0</td>\n",
       "      <td>0.0</td>\n",
       "      <td>0.0</td>\n",
       "      <td>0.0</td>\n",
       "      <td>0.0</td>\n",
       "      <td>0.0</td>\n",
       "      <td>...</td>\n",
       "      <td>0.0</td>\n",
       "      <td>0.0</td>\n",
       "      <td>0.0</td>\n",
       "      <td>0.0</td>\n",
       "      <td>0.0</td>\n",
       "      <td>0.0</td>\n",
       "      <td>0.0</td>\n",
       "      <td>0.0</td>\n",
       "      <td>0.0</td>\n",
       "      <td>0.0</td>\n",
       "    </tr>\n",
       "    <tr>\n",
       "      <th>1</th>\n",
       "      <td>0.0</td>\n",
       "      <td>0.0</td>\n",
       "      <td>0.0</td>\n",
       "      <td>0.0</td>\n",
       "      <td>0.0</td>\n",
       "      <td>0.0</td>\n",
       "      <td>0.0</td>\n",
       "      <td>0.0</td>\n",
       "      <td>0.0</td>\n",
       "      <td>0.0</td>\n",
       "      <td>...</td>\n",
       "      <td>0.0</td>\n",
       "      <td>0.0</td>\n",
       "      <td>0.0</td>\n",
       "      <td>0.0</td>\n",
       "      <td>0.0</td>\n",
       "      <td>0.0</td>\n",
       "      <td>0.0</td>\n",
       "      <td>0.0</td>\n",
       "      <td>0.0</td>\n",
       "      <td>0.0</td>\n",
       "    </tr>\n",
       "    <tr>\n",
       "      <th>2</th>\n",
       "      <td>0.0</td>\n",
       "      <td>0.0</td>\n",
       "      <td>0.0</td>\n",
       "      <td>0.0</td>\n",
       "      <td>0.0</td>\n",
       "      <td>0.0</td>\n",
       "      <td>0.0</td>\n",
       "      <td>0.0</td>\n",
       "      <td>0.0</td>\n",
       "      <td>0.0</td>\n",
       "      <td>...</td>\n",
       "      <td>0.0</td>\n",
       "      <td>0.0</td>\n",
       "      <td>0.0</td>\n",
       "      <td>0.0</td>\n",
       "      <td>0.0</td>\n",
       "      <td>0.0</td>\n",
       "      <td>0.0</td>\n",
       "      <td>0.0</td>\n",
       "      <td>0.0</td>\n",
       "      <td>0.0</td>\n",
       "    </tr>\n",
       "    <tr>\n",
       "      <th>3</th>\n",
       "      <td>0.0</td>\n",
       "      <td>0.0</td>\n",
       "      <td>0.0</td>\n",
       "      <td>0.0</td>\n",
       "      <td>0.0</td>\n",
       "      <td>0.0</td>\n",
       "      <td>0.0</td>\n",
       "      <td>0.0</td>\n",
       "      <td>0.0</td>\n",
       "      <td>0.0</td>\n",
       "      <td>...</td>\n",
       "      <td>0.0</td>\n",
       "      <td>0.0</td>\n",
       "      <td>0.0</td>\n",
       "      <td>0.0</td>\n",
       "      <td>0.0</td>\n",
       "      <td>0.0</td>\n",
       "      <td>0.0</td>\n",
       "      <td>0.0</td>\n",
       "      <td>0.0</td>\n",
       "      <td>0.0</td>\n",
       "    </tr>\n",
       "    <tr>\n",
       "      <th>4</th>\n",
       "      <td>0.0</td>\n",
       "      <td>0.0</td>\n",
       "      <td>0.0</td>\n",
       "      <td>0.0</td>\n",
       "      <td>0.0</td>\n",
       "      <td>0.0</td>\n",
       "      <td>0.0</td>\n",
       "      <td>0.0</td>\n",
       "      <td>0.0</td>\n",
       "      <td>0.0</td>\n",
       "      <td>...</td>\n",
       "      <td>0.0</td>\n",
       "      <td>0.0</td>\n",
       "      <td>0.0</td>\n",
       "      <td>0.0</td>\n",
       "      <td>0.0</td>\n",
       "      <td>0.0</td>\n",
       "      <td>0.0</td>\n",
       "      <td>0.0</td>\n",
       "      <td>0.0</td>\n",
       "      <td>0.0</td>\n",
       "    </tr>\n",
       "    <tr>\n",
       "      <th>...</th>\n",
       "      <td>...</td>\n",
       "      <td>...</td>\n",
       "      <td>...</td>\n",
       "      <td>...</td>\n",
       "      <td>...</td>\n",
       "      <td>...</td>\n",
       "      <td>...</td>\n",
       "      <td>...</td>\n",
       "      <td>...</td>\n",
       "      <td>...</td>\n",
       "      <td>...</td>\n",
       "      <td>...</td>\n",
       "      <td>...</td>\n",
       "      <td>...</td>\n",
       "      <td>...</td>\n",
       "      <td>...</td>\n",
       "      <td>...</td>\n",
       "      <td>...</td>\n",
       "      <td>...</td>\n",
       "      <td>...</td>\n",
       "      <td>...</td>\n",
       "    </tr>\n",
       "    <tr>\n",
       "      <th>12885</th>\n",
       "      <td>0.0</td>\n",
       "      <td>0.0</td>\n",
       "      <td>0.0</td>\n",
       "      <td>0.0</td>\n",
       "      <td>0.0</td>\n",
       "      <td>0.0</td>\n",
       "      <td>0.0</td>\n",
       "      <td>0.0</td>\n",
       "      <td>0.0</td>\n",
       "      <td>0.0</td>\n",
       "      <td>...</td>\n",
       "      <td>0.0</td>\n",
       "      <td>0.0</td>\n",
       "      <td>0.0</td>\n",
       "      <td>0.0</td>\n",
       "      <td>0.0</td>\n",
       "      <td>0.0</td>\n",
       "      <td>0.0</td>\n",
       "      <td>0.0</td>\n",
       "      <td>0.0</td>\n",
       "      <td>0.0</td>\n",
       "    </tr>\n",
       "    <tr>\n",
       "      <th>12886</th>\n",
       "      <td>0.0</td>\n",
       "      <td>0.0</td>\n",
       "      <td>0.0</td>\n",
       "      <td>0.0</td>\n",
       "      <td>0.0</td>\n",
       "      <td>0.0</td>\n",
       "      <td>0.0</td>\n",
       "      <td>0.0</td>\n",
       "      <td>0.0</td>\n",
       "      <td>0.0</td>\n",
       "      <td>...</td>\n",
       "      <td>0.0</td>\n",
       "      <td>0.0</td>\n",
       "      <td>0.0</td>\n",
       "      <td>0.0</td>\n",
       "      <td>0.0</td>\n",
       "      <td>0.0</td>\n",
       "      <td>0.0</td>\n",
       "      <td>0.0</td>\n",
       "      <td>0.0</td>\n",
       "      <td>0.0</td>\n",
       "    </tr>\n",
       "    <tr>\n",
       "      <th>12887</th>\n",
       "      <td>0.0</td>\n",
       "      <td>0.0</td>\n",
       "      <td>0.0</td>\n",
       "      <td>0.0</td>\n",
       "      <td>0.0</td>\n",
       "      <td>0.0</td>\n",
       "      <td>0.0</td>\n",
       "      <td>0.0</td>\n",
       "      <td>0.0</td>\n",
       "      <td>0.0</td>\n",
       "      <td>...</td>\n",
       "      <td>0.0</td>\n",
       "      <td>0.0</td>\n",
       "      <td>0.0</td>\n",
       "      <td>0.0</td>\n",
       "      <td>0.0</td>\n",
       "      <td>0.0</td>\n",
       "      <td>0.0</td>\n",
       "      <td>0.0</td>\n",
       "      <td>0.0</td>\n",
       "      <td>0.0</td>\n",
       "    </tr>\n",
       "    <tr>\n",
       "      <th>12888</th>\n",
       "      <td>0.0</td>\n",
       "      <td>0.0</td>\n",
       "      <td>0.0</td>\n",
       "      <td>0.0</td>\n",
       "      <td>0.0</td>\n",
       "      <td>0.0</td>\n",
       "      <td>0.0</td>\n",
       "      <td>0.0</td>\n",
       "      <td>0.0</td>\n",
       "      <td>0.0</td>\n",
       "      <td>...</td>\n",
       "      <td>0.0</td>\n",
       "      <td>0.0</td>\n",
       "      <td>0.0</td>\n",
       "      <td>0.0</td>\n",
       "      <td>0.0</td>\n",
       "      <td>0.0</td>\n",
       "      <td>0.0</td>\n",
       "      <td>0.0</td>\n",
       "      <td>0.0</td>\n",
       "      <td>0.0</td>\n",
       "    </tr>\n",
       "    <tr>\n",
       "      <th>12889</th>\n",
       "      <td>0.0</td>\n",
       "      <td>0.0</td>\n",
       "      <td>0.0</td>\n",
       "      <td>0.0</td>\n",
       "      <td>0.0</td>\n",
       "      <td>0.0</td>\n",
       "      <td>0.0</td>\n",
       "      <td>0.0</td>\n",
       "      <td>0.0</td>\n",
       "      <td>0.0</td>\n",
       "      <td>...</td>\n",
       "      <td>0.0</td>\n",
       "      <td>0.0</td>\n",
       "      <td>0.0</td>\n",
       "      <td>0.0</td>\n",
       "      <td>0.0</td>\n",
       "      <td>0.0</td>\n",
       "      <td>0.0</td>\n",
       "      <td>0.0</td>\n",
       "      <td>0.0</td>\n",
       "      <td>0.0</td>\n",
       "    </tr>\n",
       "  </tbody>\n",
       "</table>\n",
       "<p>12890 rows × 15642 columns</p>\n",
       "</div>"
      ],
      "text/plain": [
       "       aacknowledged  aback  abandon  abandoned  abandoning  abbreviation  \\\n",
       "0                0.0    0.0      0.0        0.0         0.0           0.0   \n",
       "1                0.0    0.0      0.0        0.0         0.0           0.0   \n",
       "2                0.0    0.0      0.0        0.0         0.0           0.0   \n",
       "3                0.0    0.0      0.0        0.0         0.0           0.0   \n",
       "4                0.0    0.0      0.0        0.0         0.0           0.0   \n",
       "...              ...    ...      ...        ...         ...           ...   \n",
       "12885            0.0    0.0      0.0        0.0         0.0           0.0   \n",
       "12886            0.0    0.0      0.0        0.0         0.0           0.0   \n",
       "12887            0.0    0.0      0.0        0.0         0.0           0.0   \n",
       "12888            0.0    0.0      0.0        0.0         0.0           0.0   \n",
       "12889            0.0    0.0      0.0        0.0         0.0           0.0   \n",
       "\n",
       "       abby  abc  abdicating  abdication  ...  zombies  zone  zoned  zones  \\\n",
       "0       0.0  0.0         0.0         0.0  ...      0.0   0.0    0.0    0.0   \n",
       "1       0.0  0.0         0.0         0.0  ...      0.0   0.0    0.0    0.0   \n",
       "2       0.0  0.0         0.0         0.0  ...      0.0   0.0    0.0    0.0   \n",
       "3       0.0  0.0         0.0         0.0  ...      0.0   0.0    0.0    0.0   \n",
       "4       0.0  0.0         0.0         0.0  ...      0.0   0.0    0.0    0.0   \n",
       "...     ...  ...         ...         ...  ...      ...   ...    ...    ...   \n",
       "12885   0.0  0.0         0.0         0.0  ...      0.0   0.0    0.0    0.0   \n",
       "12886   0.0  0.0         0.0         0.0  ...      0.0   0.0    0.0    0.0   \n",
       "12887   0.0  0.0         0.0         0.0  ...      0.0   0.0    0.0    0.0   \n",
       "12888   0.0  0.0         0.0         0.0  ...      0.0   0.0    0.0    0.0   \n",
       "12889   0.0  0.0         0.0         0.0  ...      0.0   0.0    0.0    0.0   \n",
       "\n",
       "       zoning  zoo  zoologist  zoom  zora  zygomatic  \n",
       "0         0.0  0.0        0.0   0.0   0.0        0.0  \n",
       "1         0.0  0.0        0.0   0.0   0.0        0.0  \n",
       "2         0.0  0.0        0.0   0.0   0.0        0.0  \n",
       "3         0.0  0.0        0.0   0.0   0.0        0.0  \n",
       "4         0.0  0.0        0.0   0.0   0.0        0.0  \n",
       "...       ...  ...        ...   ...   ...        ...  \n",
       "12885     0.0  0.0        0.0   0.0   0.0        0.0  \n",
       "12886     0.0  0.0        0.0   0.0   0.0        0.0  \n",
       "12887     0.0  0.0        0.0   0.0   0.0        0.0  \n",
       "12888     0.0  0.0        0.0   0.0   0.0        0.0  \n",
       "12889     0.0  0.0        0.0   0.0   0.0        0.0  \n",
       "\n",
       "[12890 rows x 15642 columns]"
      ]
     },
     "execution_count": 8,
     "metadata": {},
     "output_type": "execute_result"
    }
   ],
   "source": [
    "from sklearn.feature_extraction.text import CountVectorizer, TfidfVectorizer\n",
    "tfid = TfidfVectorizer(stop_words=stop_words)\n",
    "#Add the stop words so that we can get some actual idea of the most prevelent words\n",
    "X = df.text\n",
    "y= df.subreddit\n",
    "tfid.fit(X)\n",
    "text_tf = tfid.transform(df.text)\n",
    "#Transform\n",
    "text_df = pd.DataFrame(text_tf.toarray(), columns=tfid.get_feature_names())\n",
    "text_df"
   ]
  },
  {
   "cell_type": "markdown",
   "metadata": {},
   "source": [
    "Understanding the objective "
   ]
  },
  {
   "cell_type": "code",
   "execution_count": 9,
   "metadata": {},
   "outputs": [],
   "source": [
    "X = text_df.drop(columns=['subreddit'])\n",
    "stan = StandardScaler()\n",
    "X_stan = stan.fit_transform(X)\n",
    "#standard scaler "
   ]
  },
  {
   "cell_type": "code",
   "execution_count": 10,
   "metadata": {},
   "outputs": [],
   "source": [
    "X, y = X_stan, y\n",
    "#correct to avoid the anomoly"
   ]
  },
  {
   "cell_type": "code",
   "execution_count": 11,
   "metadata": {},
   "outputs": [],
   "source": [
    "X_train, X_test, y_train, y_test = train_test_split(\n",
    "    X_stan,\n",
    "    y,\n",
    "    test_size=0.33,\n",
    "    random_state=42\n",
    ")\n",
    "# train test split very standard"
   ]
  },
  {
   "cell_type": "code",
   "execution_count": 12,
   "metadata": {},
   "outputs": [],
   "source": [
    "logreg = LogisticRegression(max_iter=5000)\n",
    "#increase max iteration to get rid of warning"
   ]
  },
  {
   "cell_type": "code",
   "execution_count": 13,
   "metadata": {},
   "outputs": [
    {
     "data": {
      "text/plain": [
       "LogisticRegression(max_iter=5000)"
      ]
     },
     "execution_count": 13,
     "metadata": {},
     "output_type": "execute_result"
    }
   ],
   "source": [
    "logreg.fit(X_train, y_train)\n",
    "#fit the model"
   ]
  },
  {
   "cell_type": "code",
   "execution_count": 14,
   "metadata": {},
   "outputs": [],
   "source": [
    "preds = logreg.predict(X_test)\n",
    "#get predictions"
   ]
  },
  {
   "cell_type": "markdown",
   "metadata": {},
   "source": [
    "Getting Modeling Scores"
   ]
  },
  {
   "cell_type": "code",
   "execution_count": 15,
   "metadata": {},
   "outputs": [
    {
     "data": {
      "text/plain": [
       "{'0': {'precision': 0.9346427362004741,\n",
       "  'recall': 0.9822064056939501,\n",
       "  'f1-score': 0.9578344612181156,\n",
       "  'support': 2810},\n",
       " '1': {'precision': 0.9615680245964643,\n",
       "  'recall': 0.8663434903047091,\n",
       "  'f1-score': 0.9114754098360655,\n",
       "  'support': 1444},\n",
       " 'accuracy': 0.9428772919605077,\n",
       " 'macro avg': {'precision': 0.9481053803984691,\n",
       "  'recall': 0.9242749479993296,\n",
       "  'f1-score': 0.9346549355270906,\n",
       "  'support': 4254},\n",
       " 'weighted avg': {'precision': 0.9437823968595738,\n",
       "  'recall': 0.9428772919605077,\n",
       "  'f1-score': 0.9420981024509129,\n",
       "  'support': 4254}}"
      ]
     },
     "execution_count": 15,
     "metadata": {},
     "output_type": "execute_result"
    }
   ],
   "source": [
    "#Print out the class report \n",
    "report=classification_report(y_test,preds, output_dict=True)\n",
    "report"
   ]
  },
  {
   "cell_type": "code",
   "execution_count": 16,
   "metadata": {},
   "outputs": [],
   "source": [
    "#Modify the dictionary\n",
    "new_report={'Not Mensrights': {'precision': 0.9402782490668476,\n",
    "  'recall': 0.9750175932441942,\n",
    "  'f1-score': 0.9573328726895838,\n",
    "  'support': 2842},\n",
    " 'Mensrights': {'precision': 0.9456771231828616,\n",
    "  'recall': 0.8753541076487252,\n",
    "  'f1-score': 0.9091577785950719,\n",
    "  'support': 1412},\n",
    " 'accuracy': 0.9419370004701457,\n",
    " 'macro avg': {'precision': 0.9429776861248547,\n",
    "  'recall': 0.9251858504464597,\n",
    "  'f1-score': 0.9332453256423279,\n",
    "  'support': 4254},\n",
    " 'weighted avg': {'precision': 0.9420702589991024,\n",
    "  'recall': 0.9419370004701457,\n",
    "  'f1-score': 0.9413424559379499,\n",
    "  'support': 4254}}"
   ]
  },
  {
   "cell_type": "code",
   "execution_count": 17,
   "metadata": {},
   "outputs": [
    {
     "data": {
      "text/html": [
       "<div>\n",
       "<style scoped>\n",
       "    .dataframe tbody tr th:only-of-type {\n",
       "        vertical-align: middle;\n",
       "    }\n",
       "\n",
       "    .dataframe tbody tr th {\n",
       "        vertical-align: top;\n",
       "    }\n",
       "\n",
       "    .dataframe thead th {\n",
       "        text-align: right;\n",
       "    }\n",
       "</style>\n",
       "<table border=\"1\" class=\"dataframe\">\n",
       "  <thead>\n",
       "    <tr style=\"text-align: right;\">\n",
       "      <th></th>\n",
       "      <th>precision</th>\n",
       "      <th>recall</th>\n",
       "      <th>f1-score</th>\n",
       "      <th>support</th>\n",
       "    </tr>\n",
       "  </thead>\n",
       "  <tbody>\n",
       "    <tr>\n",
       "      <th>Not Mensrights</th>\n",
       "      <td>0.940278</td>\n",
       "      <td>0.975018</td>\n",
       "      <td>0.957333</td>\n",
       "      <td>2842.000000</td>\n",
       "    </tr>\n",
       "    <tr>\n",
       "      <th>Mensrights</th>\n",
       "      <td>0.945677</td>\n",
       "      <td>0.875354</td>\n",
       "      <td>0.909158</td>\n",
       "      <td>1412.000000</td>\n",
       "    </tr>\n",
       "    <tr>\n",
       "      <th>accuracy</th>\n",
       "      <td>0.941937</td>\n",
       "      <td>0.941937</td>\n",
       "      <td>0.941937</td>\n",
       "      <td>0.941937</td>\n",
       "    </tr>\n",
       "    <tr>\n",
       "      <th>macro avg</th>\n",
       "      <td>0.942978</td>\n",
       "      <td>0.925186</td>\n",
       "      <td>0.933245</td>\n",
       "      <td>4254.000000</td>\n",
       "    </tr>\n",
       "    <tr>\n",
       "      <th>weighted avg</th>\n",
       "      <td>0.942070</td>\n",
       "      <td>0.941937</td>\n",
       "      <td>0.941342</td>\n",
       "      <td>4254.000000</td>\n",
       "    </tr>\n",
       "  </tbody>\n",
       "</table>\n",
       "</div>"
      ],
      "text/plain": [
       "                precision    recall  f1-score      support\n",
       "Not Mensrights   0.940278  0.975018  0.957333  2842.000000\n",
       "Mensrights       0.945677  0.875354  0.909158  1412.000000\n",
       "accuracy         0.941937  0.941937  0.941937     0.941937\n",
       "macro avg        0.942978  0.925186  0.933245  4254.000000\n",
       "weighted avg     0.942070  0.941937  0.941342  4254.000000"
      ]
     },
     "execution_count": 17,
     "metadata": {},
     "output_type": "execute_result"
    }
   ],
   "source": [
    "shmegel = pd.DataFrame(new_report).transpose()\n",
    "shmegel\n",
    "#print it out for presentation"
   ]
  },
  {
   "cell_type": "code",
   "execution_count": 26,
   "metadata": {},
   "outputs": [
    {
     "data": {
      "text/plain": [
       "'+----------------+-------------+----------+------------+-------------+\\n|                |   precision |   recall |   f1-score |     support |\\n+================+=============+==========+============+=============+\\n| Not Mensrights |    0.940278 | 0.975018 |   0.957333 | 2842        |\\n+----------------+-------------+----------+------------+-------------+\\n| Mensrights     |    0.945677 | 0.875354 |   0.909158 | 1412        |\\n+----------------+-------------+----------+------------+-------------+\\n| accuracy       |    0.941937 | 0.941937 |   0.941937 |    0.941937 |\\n+----------------+-------------+----------+------------+-------------+\\n| macro avg      |    0.942978 | 0.925186 |   0.933245 | 4254        |\\n+----------------+-------------+----------+------------+-------------+\\n| weighted avg   |    0.94207  | 0.941937 |   0.941342 | 4254        |\\n+----------------+-------------+----------+------------+-------------+'"
      ]
     },
     "execution_count": 26,
     "metadata": {},
     "output_type": "execute_result"
    }
   ],
   "source": [
    "from tabulate import tabulate\n",
    "shemegel.to_markdown(tablefmt=\"grid\")\n",
    "# for read me I refuse to type that thing again please download tabulate: https://pypi.org/project/tabulate/"
   ]
  },
  {
   "cell_type": "markdown",
   "metadata": {},
   "source": [
    "Accuracy is the one metric for evaluating classification models in this case we are focused on. So accuracy is the predictions the model got right which can then substantiate the two questions in our presentation with some actual answers. Formally, accuracy has the following definition: Accuracy = Number of True positives over the total number of predictions.\n",
    "\n",
    "This perfomed better than the SVM model and to be honest the amount of time is insanely faster. \n",
    "\n",
    "The model correctly picked out r/mensrights."
   ]
  },
  {
   "cell_type": "markdown",
   "metadata": {},
   "source": [
    "Visualize the Data"
   ]
  },
  {
   "cell_type": "code",
   "execution_count": 18,
   "metadata": {},
   "outputs": [
    {
     "data": {
      "text/plain": [
       "array([[2760,   50],\n",
       "       [ 193, 1251]], dtype=int64)"
      ]
     },
     "execution_count": 18,
     "metadata": {},
     "output_type": "execute_result"
    }
   ],
   "source": [
    "cm = confusion_matrix(y_test, preds)\n",
    "cm\n",
    "#confusion Matrix "
   ]
  },
  {
   "cell_type": "code",
   "execution_count": 20,
   "metadata": {},
   "outputs": [
    {
     "data": {
      "image/png": "[encoded data removed]",
      "text/plain": [
       "<Figure size 432x288 with 2 Axes>"
      ]
     },
     "metadata": {
      "needs_background": "light"
     },
     "output_type": "display_data"
    }
   ],
   "source": [
    "disp = ConfusionMatrixDisplay(cm, display_labels=['MensRights','Feminism']);\n",
    "disp.plot();\n",
    "plt.title('Logistic Regression Model with TfidfVectorizer and stopwords for predicting r/mensrights');"
   ]
  },
  {
   "cell_type": "code",
   "execution_count": null,
   "metadata": {},
   "outputs": [],
   "source": []
  }
 ],
 "metadata": {
  "kernelspec": {
   "display_name": "Python 3",
   "language": "python",
   "name": "python3"
  },
  "language_info": {
   "codemirror_mode": {
    "name": "ipython",
    "version": 3
   },
   "file_extension": ".py",
   "mimetype": "text/x-python",
   "name": "python",
   "nbconvert_exporter": "python",
   "pygments_lexer": "ipython3",
   "version": "3.8.5"
  }
 },
 "nbformat": 4,
 "nbformat_minor": 4
}
